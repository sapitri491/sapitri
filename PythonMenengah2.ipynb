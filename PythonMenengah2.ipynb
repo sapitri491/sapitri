{
 "cells": [
  {
   "cell_type": "markdown",
   "metadata": {},
   "source": [
    "# Modul Common untuk Data Science"
   ]
  },
  {
   "cell_type": "markdown",
   "metadata": {},
   "source": [
    "## NumPy"
   ]
  },
  {
   "cell_type": "markdown",
   "metadata": {},
   "source": [
    "Yang pertama adalah NumPy. Fitur NumPy utama ada tiga: fungsi matematikanya (misalnya `sin`, `log`, `floor`), submodul `random` (berguna untuk pengambilan sampel acak), dan objek NumPy `ndarray`.\n",
    "\n",
    "Array NumPy mirip dengan matriks n-dimensi matematika. Sebagai contoh,\n",
    "\n",
    "$$\\begin{bmatrix}\n",
    "    x_{11} & x_{12} & x_{13} & \\dots  & x_{1n} \\\\\n",
    "    x_{21} & x_{22} & x_{23} & \\dots  & x_{2n} \\\\\n",
    "    \\vdots & \\vdots & \\vdots & \\ddots & \\vdots \\\\\n",
    "    x_{d1} & x_{d2} & x_{d3} & \\dots  & x_{dn}\n",
    "\\end{bmatrix}$$"
   ]
  },
  {
   "cell_type": "markdown",
   "metadata": {},
   "source": [
    "Array NumPy bisa 1-dimensi (misalnya [1, 5, 20, 34, ...]), 2-dimensi (seperti di atas), atau banyak dimensi. Penting untuk dicatat bahwa semua baris dan kolom dari array 2 dimensi memiliki panjang yang sama. Itu akan berlaku untuk semua dimensi array."
   ]
  },
  {
   "cell_type": "markdown",
   "metadata": {},
   "source": [
    "Lihat perbedaan dengan “List” Python."
   ]
  },
  {
   "cell_type": "code",
   "execution_count": 2,
   "metadata": {},
   "outputs": [],
   "source": [
    "# untuk mengakses NumPy, kita harus mengimpornya\n",
    "import numpy as np"
   ]
  },
  {
   "cell_type": "code",
   "execution_count": 3,
   "metadata": {},
   "outputs": [
    {
     "name": "stdout",
     "output_type": "stream",
     "text": [
      "[[1, 2, 3], [4, 5, 6], [7, 8, 9]]\n"
     ]
    }
   ],
   "source": [
    "list_of_lists = [[1, 2, 3], [4, 5, 6], [7, 8, 9]]\n",
    "print(list_of_lists)"
   ]
  },
  {
   "cell_type": "code",
   "execution_count": 4,
   "metadata": {},
   "outputs": [
    {
     "name": "stdout",
     "output_type": "stream",
     "text": [
      "[[1 2 3]\n",
      " [4 5 6]\n",
      " [7 8 9]]\n"
     ]
    }
   ],
   "source": [
    "an_array = np.array(list_of_lists)\n",
    "print(an_array)"
   ]
  },
  {
   "cell_type": "code",
   "execution_count": 6,
   "metadata": {},
   "outputs": [
    {
     "name": "stdout",
     "output_type": "stream",
     "text": [
      "[[1, 2], [3, 4, 5], [6, 7, 8, 9]]\n"
     ]
    }
   ],
   "source": [
    "non_rectangular = [[1, 2], [3, 4, 5], [6, 7, 8, 9]]\n",
    "print(non_rectangular)"
   ]
  },
  {
   "cell_type": "code",
   "execution_count": 5,
   "metadata": {},
   "outputs": [
    {
     "ename": "NameError",
     "evalue": "name 'non_rectangular' is not defined",
     "output_type": "error",
     "traceback": [
      "\u001b[1;31m---------------------------------------------------------------------------\u001b[0m",
      "\u001b[1;31mNameError\u001b[0m                                 Traceback (most recent call last)",
      "\u001b[1;32m~\\AppData\\Local\\Temp/ipykernel_24396/2493306081.py\u001b[0m in \u001b[0;36m<module>\u001b[1;34m\u001b[0m\n\u001b[1;32m----> 1\u001b[1;33m \u001b[0mnon_rectangular_array\u001b[0m \u001b[1;33m=\u001b[0m \u001b[0mnp\u001b[0m\u001b[1;33m.\u001b[0m\u001b[0marray\u001b[0m\u001b[1;33m(\u001b[0m\u001b[0mnon_rectangular\u001b[0m\u001b[1;33m)\u001b[0m\u001b[1;33m\u001b[0m\u001b[1;33m\u001b[0m\u001b[0m\n\u001b[0m\u001b[0;32m      2\u001b[0m \u001b[0mprint\u001b[0m\u001b[1;33m(\u001b[0m\u001b[0mnon_rectangular_array\u001b[0m\u001b[1;33m)\u001b[0m\u001b[1;33m\u001b[0m\u001b[1;33m\u001b[0m\u001b[0m\n",
      "\u001b[1;31mNameError\u001b[0m: name 'non_rectangular' is not defined"
     ]
    }
   ],
   "source": [
    "non_rectangular_array = np.array(non_rectangular)\n",
    "print(non_rectangular_array)"
   ]
  },
  {
   "cell_type": "markdown",
   "metadata": {},
   "source": [
    "Mengapa hasil tercetak secara berbeda? Mari kita selidiki _shape_ dan _data type_ (`dtype`) mereka."
   ]
  },
  {
   "cell_type": "code",
   "execution_count": 6,
   "metadata": {},
   "outputs": [
    {
     "name": "stdout",
     "output_type": "stream",
     "text": [
      "(3, 3) int32\n",
      "(3,) object\n"
     ]
    }
   ],
   "source": [
    "print(an_array.shape, an_array.dtype)\n",
    "print(non_rectangular_array.shape, non_rectangular_array.dtype)"
   ]
  },
  {
   "cell_type": "markdown",
   "metadata": {},
   "source": [
    "Kasus pertama, `an_array`, adalah array 3x3 2 dimensi (dari bilangan bulat). Sebaliknya, `non_rectangular_array` adalah array 1 dimensi dengan panjang 3 (dari _objects_, yaitu objek `list`)."
   ]
  },
  {
   "cell_type": "markdown",
   "metadata": {},
   "source": [
    "Kita juga dapat membuat berbagai array dengan fungsi NumPy."
   ]
  },
  {
   "cell_type": "code",
   "execution_count": 7,
   "metadata": {},
   "outputs": [
    {
     "data": {
      "text/plain": [
       "array([ 1.,  2.,  3.,  4.,  5.,  6.,  7.,  8.,  9., 10.])"
      ]
     },
     "execution_count": 7,
     "metadata": {},
     "output_type": "execute_result"
    }
   ],
   "source": [
    "np.linspace(1, 10, 10)"
   ]
  },
  {
   "cell_type": "code",
   "execution_count": 8,
   "metadata": {},
   "outputs": [
    {
     "data": {
      "text/plain": [
       "array([1, 2, 3, 4, 5, 6, 7, 8, 9])"
      ]
     },
     "execution_count": 8,
     "metadata": {},
     "output_type": "execute_result"
    }
   ],
   "source": [
    "np.arange(1, 10, 1)"
   ]
  },
  {
   "cell_type": "code",
   "execution_count": 9,
   "metadata": {},
   "outputs": [
    {
     "data": {
      "text/plain": [
       "array([1.e+01, 1.e+02, 1.e+03, 1.e+04, 1.e+05, 1.e+06, 1.e+07, 1.e+08,\n",
       "       1.e+09, 1.e+10])"
      ]
     },
     "execution_count": 9,
     "metadata": {},
     "output_type": "execute_result"
    }
   ],
   "source": [
    "np.logspace(1, 10, 10)"
   ]
  },
  {
   "cell_type": "code",
   "execution_count": 10,
   "metadata": {},
   "outputs": [
    {
     "data": {
      "text/plain": [
       "array([0., 0., 0., 0., 0., 0., 0., 0., 0., 0.])"
      ]
     },
     "execution_count": 10,
     "metadata": {},
     "output_type": "execute_result"
    }
   ],
   "source": [
    "np.zeros(10)"
   ]
  },
  {
   "cell_type": "code",
   "execution_count": 11,
   "metadata": {},
   "outputs": [
    {
     "data": {
      "text/plain": [
       "array([[1, 0, 0, 0],\n",
       "       [0, 2, 0, 0],\n",
       "       [0, 0, 3, 0],\n",
       "       [0, 0, 0, 4]])"
      ]
     },
     "execution_count": 11,
     "metadata": {},
     "output_type": "execute_result"
    }
   ],
   "source": [
    "np.diag([1,2,3,4])"
   ]
  },
  {
   "cell_type": "code",
   "execution_count": 12,
   "metadata": {},
   "outputs": [
    {
     "data": {
      "text/plain": [
       "array([[1., 0., 0., 0., 0.],\n",
       "       [0., 1., 0., 0., 0.],\n",
       "       [0., 0., 1., 0., 0.],\n",
       "       [0., 0., 0., 1., 0.],\n",
       "       [0., 0., 0., 0., 1.]])"
      ]
     },
     "execution_count": 12,
     "metadata": {},
     "output_type": "execute_result"
    }
   ],
   "source": [
    "np.eye(5)"
   ]
  },
  {
   "cell_type": "markdown",
   "metadata": {},
   "source": [
    "Kita juga dapat mengonversi `dtype` dari array setelah dibuat."
   ]
  },
  {
   "cell_type": "code",
   "execution_count": 13,
   "metadata": {},
   "outputs": [
    {
     "name": "stdout",
     "output_type": "stream",
     "text": [
      "float64\n",
      "int32\n"
     ]
    }
   ],
   "source": [
    "print(np.logspace(1, 10, 10).dtype)\n",
    "print(np.logspace(1, 10, 10).astype(int).dtype)"
   ]
  },
  {
   "cell_type": "markdown",
   "metadata": {},
   "source": [
    "Mengapa semua ini penting?\n",
    "\n",
    "Array seringkali lebih efisien dalam hal kode serta sumber daya komputasi untuk perhitungan tertentu. Secara komputasi, efisiensi ini berasal dari fakta bahwa kita telah mengalokasikan blok memori yang berdekatan untuk hasil perhitungan kita.\n",
    "\n",
    "Untuk mengeksplorasi kelebihan yang ditawarkan dalam kode, mari kita coba menghitung angka-angka berikut ini.\n",
    "\n",
    "Pertama, mari kita hitung jumlah semua angka dan lihat perbedaan kode yang diperlukan untuk `list_of_lists`, `an_array`, dan `non_rectangular_array`.\n"
   ]
  },
  {
   "cell_type": "code",
   "execution_count": 14,
   "metadata": {},
   "outputs": [
    {
     "name": "stdout",
     "output_type": "stream",
     "text": [
      "45\n",
      "45\n"
     ]
    }
   ],
   "source": [
    "print(sum([sum(inner_list) for inner_list in list_of_lists]))\n",
    "print(an_array.sum())"
   ]
  },
  {
   "cell_type": "markdown",
   "metadata": {},
   "source": [
    "Menjumlahkan angka dalam array jauh lebih mudah daripada dalam list of lists. Kita tidak perlu \"menggali\" hierarki list, kita cukup menggunakan metode `sum` dari `ndarray`. Apakah ini masih berfungsi untuk `non_rectangular_array`?"
   ]
  },
  {
   "cell_type": "code",
   "execution_count": 15,
   "metadata": {},
   "outputs": [
    {
     "name": "stdout",
     "output_type": "stream",
     "text": [
      "[1, 2, 3, 4, 5, 6, 7, 8, 9]\n"
     ]
    }
   ],
   "source": [
    "# apa yang terjadi di sini?\n",
    "print(non_rectangular_array.sum())"
   ]
  },
  {
   "cell_type": "markdown",
   "metadata": {},
   "source": [
    "Ingat `non_rectangular_array` adalah array 1 dimensi dari objek `list`. Metode `sum` mencoba untuk menambahkannya bersama-sama: list pertama + list kedua + list ketiga. Penambahan list menghasilkan _concatenation_."
   ]
  },
  {
   "cell_type": "code",
   "execution_count": 16,
   "metadata": {},
   "outputs": [
    {
     "name": "stdout",
     "output_type": "stream",
     "text": [
      "[1, 2, 3, 4, 5, 6, 7, 8, 9]\n"
     ]
    }
   ],
   "source": [
    "# concatenate three lists\n",
    "print([1, 2] + [3, 4, 5] + [6, 7, 8, 9])"
   ]
  },
  {
   "cell_type": "markdown",
   "metadata": {},
   "source": [
    "Perbedaan menjadi lebih jelas ketika kita mencoba menjumlahkan baris atau kolom satu per satu."
   ]
  },
  {
   "cell_type": "code",
   "execution_count": 17,
   "metadata": {},
   "outputs": [
    {
     "name": "stdout",
     "output_type": "stream",
     "text": [
      "Array row sums:  [ 6 15 24]\n",
      "Array column sums:  [12 15 18]\n"
     ]
    }
   ],
   "source": [
    "print('Array row sums: ', an_array.sum(axis=1))\n",
    "print('Array column sums: ', an_array.sum(axis=0))"
   ]
  },
  {
   "cell_type": "code",
   "execution_count": 18,
   "metadata": {},
   "outputs": [
    {
     "name": "stdout",
     "output_type": "stream",
     "text": [
      "List of list row sums:  [6, 15, 24]\n",
      "List of list column sums:  [12, 15, 18]\n"
     ]
    }
   ],
   "source": [
    "print('List of list row sums: ', [sum(inner_list) for inner_list in list_of_lists])\n",
    "\n",
    "def column_sum(list_of_lists):\n",
    "    running_sums = [0] * len(list_of_lists[0])\n",
    "    for inner_list in list_of_lists:\n",
    "        for i, number in enumerate(inner_list):\n",
    "            running_sums[i] += number\n",
    "            \n",
    "    return running_sums\n",
    "\n",
    "print('List of list column sums: ', column_sum(list_of_lists))"
   ]
  },
  {
   "cell_type": "markdown",
   "metadata": {},
   "source": [
    "Umumnya jauh lebih \"common\" untuk melakukan operasi matematika dengan array daripada list."
   ]
  },
  {
   "cell_type": "code",
   "execution_count": 19,
   "metadata": {},
   "outputs": [
    {
     "name": "stdout",
     "output_type": "stream",
     "text": [
      "[ 6  7  8  9 10]\n",
      "[ 5 10 15 20 25]\n",
      "[0.2 0.4 0.6 0.8 1. ]\n"
     ]
    }
   ],
   "source": [
    "a = np.array([1, 2, 3, 4, 5])\n",
    "print(a + 5) # tambahkan skalar\n",
    "print(a * 5) # kalikan dengan skalar\n",
    "print(a / 5) # bagi dengan skalar (perhatikan float!)"
   ]
  },
  {
   "cell_type": "code",
   "execution_count": 20,
   "metadata": {},
   "outputs": [
    {
     "name": "stdout",
     "output_type": "stream",
     "text": [
      "[ 3  5  7  9 11]\n",
      "[ 2  6 12 20 30]\n",
      "[0.5        0.66666667 0.75       0.8        0.83333333]\n"
     ]
    }
   ],
   "source": [
    "b = a + 1\n",
    "print(a + b) # menjumlahkan dua array\n",
    "print(a * b) # kalikan dua array (dari segi elemen)\n",
    "print(a / b.astype(float)) # bagi dua array (dari segi elemen)"
   ]
  },
  {
   "cell_type": "markdown",
   "metadata": {},
   "source": [
    "Array juga dapat digunakan untuk aljabar linier, bertindak sebagai vektor, matriks, tensor, dll."
   ]
  },
  {
   "cell_type": "code",
   "execution_count": 21,
   "metadata": {},
   "outputs": [
    {
     "name": "stdout",
     "output_type": "stream",
     "text": [
      "70\n",
      "[[ 2  3  4  5  6]\n",
      " [ 4  6  8 10 12]\n",
      " [ 6  9 12 15 18]\n",
      " [ 8 12 16 20 24]\n",
      " [10 15 20 25 30]]\n"
     ]
    }
   ],
   "source": [
    "print(np.dot(a, b)) # inner product\n",
    "print(np.outer(a, b)) # outer product"
   ]
  },
  {
   "cell_type": "markdown",
   "metadata": {},
   "source": [
    "Array memiliki banyak hal untuk ditawarkan kepada kita dalam hal merepresentasikan dan menganalisis data, karena kita dapat dengan mudah menerapkan fungsi matematika ke kumpulan data atau bagian dari kumpulan data. Seringkali kita tidak akan mengalami masalah dalam menggunakan array, tetapi ada baiknya untuk memperhatikan batasan di sekitar shape dan tipe data.\n",
    "\n",
    "Pembatasan seputar `shape` dan `dtype` ini memungkinkan objek `ndarray` menjadi jauh lebih berperforma dibandingkan dengan `list` Python umum. Ada beberapa alasan untuk ini, tetapi dua yang utama adalah hasil dari sifat `ndarray` yang diketik, karena ini memungkinkan penyimpanan memori yang baik dan pencarian fungsi yang konsisten. Ketika `list` Python dijumlahkan, Python perlu mencari tahu saat runtime cara yang benar untuk menambahkan setiap elemen list bersama-sama. Ketika `ndarray` dijumlahkan, `NumPy` sudah mengetahui jenis setiap elemen (dan mereka konsisten), sehingga dapat menjumlahkannya tanpa memeriksa fungsi add yang benar untuk setiap elemen.\n",
    "\n",
    "Mari kita lihat hal ini dengan melakukan beberapa pengecekan dasar. Pertama kita akan membuat list 100000 elemen acak dan kemudian menghitung waktu fungsi penjumlahan."
   ]
  },
  {
   "cell_type": "code",
   "execution_count": 22,
   "metadata": {},
   "outputs": [],
   "source": [
    "time_list = [np.random.random() for _ in range(100000)]\n",
    "time_arr = np.array(time_list)"
   ]
  },
  {
   "cell_type": "code",
   "execution_count": 23,
   "metadata": {},
   "outputs": [
    {
     "name": "stdout",
     "output_type": "stream",
     "text": [
      "417 µs ± 27.5 µs per loop (mean ± std. dev. of 7 runs, 1000 loops each)\n"
     ]
    }
   ],
   "source": [
    "%%timeit \n",
    "sum(time_list)"
   ]
  },
  {
   "cell_type": "code",
   "execution_count": 24,
   "metadata": {},
   "outputs": [
    {
     "name": "stdout",
     "output_type": "stream",
     "text": [
      "41.2 µs ± 2.6 µs per loop (mean ± std. dev. of 7 runs, 10000 loops each)\n"
     ]
    }
   ],
   "source": [
    "%%timeit\n",
    "np.sum(time_arr)"
   ]
  },
  {
   "cell_type": "markdown",
   "metadata": {},
   "source": [
    "### Universal functions\n",
    "\n",
    "`NumPy` mendefinisikan `ufunc` yang memungkinkannya menjalankan fungsi secara efisien melalui array. Banyak dari fungsi-fungsi ini dibangun di dalamnya, seperti `np.cos`, dan diimplementasikan dalam kode `C` yang dikompilasi dengan kinerja tinggi. Fungsi-fungsi ini dapat melakukan `broadcasting` yang memungkinkan mereka untuk secara otomatis menangani operasi antara array dengan shape yang berbeda, misalnya dua array dengan shape yang sama, atau array dan skalar."
   ]
  },
  {
   "cell_type": "markdown",
   "metadata": {},
   "source": [
    "### Mengubah Shape\n",
    "\n",
    "Seringkali kita ingin mengambil array yang merupakan one shape dan mengubahnya menjadi shape lain yang lebih sesuai untuk operasi tertentu."
   ]
  },
  {
   "cell_type": "code",
   "execution_count": 25,
   "metadata": {},
   "outputs": [],
   "source": [
    "mat = np.random.rand(20, 10)"
   ]
  },
  {
   "cell_type": "code",
   "execution_count": 26,
   "metadata": {},
   "outputs": [
    {
     "data": {
      "text/plain": [
       "(40, 5)"
      ]
     },
     "execution_count": 26,
     "metadata": {},
     "output_type": "execute_result"
    }
   ],
   "source": [
    "mat.reshape(40, 5).shape"
   ]
  },
  {
   "cell_type": "code",
   "execution_count": 27,
   "metadata": {},
   "outputs": [
    {
     "ename": "ValueError",
     "evalue": "cannot reshape array of size 200 into shape (30,5)",
     "output_type": "error",
     "traceback": [
      "\u001b[1;31m---------------------------------------------------------------------------\u001b[0m",
      "\u001b[1;31mValueError\u001b[0m                                Traceback (most recent call last)",
      "\u001b[1;32m~\\AppData\\Local\\Temp/ipykernel_1680/3565156385.py\u001b[0m in \u001b[0;36m<module>\u001b[1;34m\u001b[0m\n\u001b[1;32m----> 1\u001b[1;33m \u001b[0mmat\u001b[0m\u001b[1;33m.\u001b[0m\u001b[0mreshape\u001b[0m\u001b[1;33m(\u001b[0m\u001b[1;36m30\u001b[0m\u001b[1;33m,\u001b[0m \u001b[1;36m5\u001b[0m\u001b[1;33m)\u001b[0m\u001b[1;33m\u001b[0m\u001b[1;33m\u001b[0m\u001b[0m\n\u001b[0m",
      "\u001b[1;31mValueError\u001b[0m: cannot reshape array of size 200 into shape (30,5)"
     ]
    }
   ],
   "source": [
    "mat.reshape(30, 5)"
   ]
  },
  {
   "cell_type": "code",
   "execution_count": 28,
   "metadata": {},
   "outputs": [
    {
     "data": {
      "text/plain": [
       "(200,)"
      ]
     },
     "execution_count": 28,
     "metadata": {},
     "output_type": "execute_result"
    }
   ],
   "source": [
    "mat.ravel().shape"
   ]
  },
  {
   "cell_type": "code",
   "execution_count": 29,
   "metadata": {},
   "outputs": [
    {
     "data": {
      "text/plain": [
       "(10, 20)"
      ]
     },
     "execution_count": 29,
     "metadata": {},
     "output_type": "execute_result"
    }
   ],
   "source": [
    "mat.transpose().shape"
   ]
  },
  {
   "cell_type": "markdown",
   "metadata": {},
   "source": [
    "### Combining arrays"
   ]
  },
  {
   "cell_type": "code",
   "execution_count": 30,
   "metadata": {},
   "outputs": [
    {
     "name": "stdout",
     "output_type": "stream",
     "text": [
      "[1 2 3 4 5]\n",
      "[2 3 4 5 6]\n"
     ]
    }
   ],
   "source": [
    "print(a)\n",
    "print(b)"
   ]
  },
  {
   "cell_type": "code",
   "execution_count": 31,
   "metadata": {},
   "outputs": [
    {
     "data": {
      "text/plain": [
       "array([1, 2, 3, 4, 5, 2, 3, 4, 5, 6])"
      ]
     },
     "execution_count": 31,
     "metadata": {},
     "output_type": "execute_result"
    }
   ],
   "source": [
    "np.hstack((a, b))"
   ]
  },
  {
   "cell_type": "code",
   "execution_count": 32,
   "metadata": {},
   "outputs": [
    {
     "data": {
      "text/plain": [
       "array([[1, 2, 3, 4, 5],\n",
       "       [2, 3, 4, 5, 6]])"
      ]
     },
     "execution_count": 32,
     "metadata": {},
     "output_type": "execute_result"
    }
   ],
   "source": [
    "np.vstack((a, b))"
   ]
  },
  {
   "cell_type": "code",
   "execution_count": 33,
   "metadata": {},
   "outputs": [
    {
     "data": {
      "text/plain": [
       "array([[[1, 2],\n",
       "        [2, 3],\n",
       "        [3, 4],\n",
       "        [4, 5],\n",
       "        [5, 6]]])"
      ]
     },
     "execution_count": 33,
     "metadata": {},
     "output_type": "execute_result"
    }
   ],
   "source": [
    "np.dstack((a, b))"
   ]
  },
  {
   "cell_type": "markdown",
   "metadata": {},
   "source": [
    "### Agregasi data dasar\n",
    "\n",
    "Mari kita telusuri beberapa contoh lagi menggunakan array, kali ini menggunakan submodul `random` NumPy untuk membuat beberapa \"data palsu\". Simulasi data berguna untuk menguji dan membuat prototipe teknik atau kode baru, dan beberapa algoritme bahkan memerlukan input acak."
   ]
  },
  {
   "cell_type": "code",
   "execution_count": 34,
   "metadata": {},
   "outputs": [
    {
     "name": "stdout",
     "output_type": "stream",
     "text": [
      "[[127 117  39 131  96  45 127]\n",
      " [146  99 112 141 124 128 176]\n",
      " [155 174  77  26 112 182  62]\n",
      " [154  45 185  82  46 113  73]]\n"
     ]
    }
   ],
   "source": [
    "np.random.seed(42)\n",
    "jan_coffee_sales = np.random.randint(25, 200, size=(4, 7))\n",
    "print(jan_coffee_sales)"
   ]
  },
  {
   "cell_type": "code",
   "execution_count": 35,
   "metadata": {},
   "outputs": [
    {
     "name": "stdout",
     "output_type": "stream",
     "text": [
      "Rata-rata kopi terjual per hari: 110\n"
     ]
    }
   ],
   "source": [
    "# penjualan rata-rata\n",
    "print('Rata-rata kopi terjual per hari: %d' % jan_coffee_sales.mean())"
   ]
  },
  {
   "cell_type": "code",
   "execution_count": 36,
   "metadata": {},
   "outputs": [
    {
     "name": "stdout",
     "output_type": "stream",
     "text": [
      "Rata-rata kopi terjual pada hari Senin di bulan Januari: 108\n"
     ]
    }
   ],
   "source": [
    "# penjualan rata-rata Senin\n",
    "print('Rata-rata kopi terjual pada hari Senin di bulan Januari: %d' % jan_coffee_sales[:, 1].mean())"
   ]
  },
  {
   "cell_type": "code",
   "execution_count": 37,
   "metadata": {},
   "outputs": [
    {
     "name": "stdout",
     "output_type": "stream",
     "text": [
      "Hari dengan penjualan tertinggi adalah Januari tanggal 24\n"
     ]
    }
   ],
   "source": [
    "# hari dengan penjualan terbanyak\n",
    "# ingat kita menghitung tanggal dari 1, bukan 0!\n",
    "print('Hari dengan penjualan tertinggi adalah Januari tanggal %d' % (jan_coffee_sales.argmax() + 1))"
   ]
  },
  {
   "cell_type": "code",
   "execution_count": 38,
   "metadata": {},
   "outputs": [
    {
     "data": {
      "text/plain": [
       "[(Fraction(0, 1), 4.930380657631324e-32),\n",
       " (Fraction(1, 28), 11.818508040667577),\n",
       " (Fraction(1, 14), 3.0624177128282795),\n",
       " (Fraction(3, 28), 3.6145035763808577),\n",
       " (Fraction(1, 7), 8.992489334676053),\n",
       " (Fraction(5, 28), 3.689054592513946),\n",
       " (Fraction(3, 14), 8.363267066546037),\n",
       " (Fraction(1, 4), 16.615944819859244),\n",
       " (Fraction(2, 7), 0.6736105397207648),\n",
       " (Fraction(9, 28), 6.846412421396466),\n",
       " (Fraction(5, 14), 14.279717692527932),\n",
       " (Fraction(11, 28), 17.951272090034657),\n",
       " (Fraction(3, 7), 4.608890497088778),\n",
       " (Fraction(13, 28), 6.579601542582696)]"
      ]
     },
     "execution_count": 38,
     "metadata": {},
     "output_type": "execute_result"
    }
   ],
   "source": [
    "# apakah ada periodisitas mingguan?\n",
    "from fractions import Fraction\n",
    "\n",
    "normalized_sales = (jan_coffee_sales - jan_coffee_sales.mean()) / abs(jan_coffee_sales - jan_coffee_sales.mean()).max()\n",
    "frequencies = [Fraction.from_float(f).limit_denominator() for f in np.fft.fftfreq(normalized_sales.size)]\n",
    "power = np.abs(np.fft.fft(normalized_sales.ravel()))**2\n",
    "list(zip(frequencies, power))[:len(power) // 2]"
   ]
  },
  {
   "cell_type": "markdown",
   "metadata": {},
   "source": [
    "Beberapa fungsi yang kita gunakan di atas tidak ada dalam Python standar dan disediakan untuk kita oleh NumPy. Selain itu, kita melihat bahwa kita dapat menggunakan bentuk array untuk membantu kita menghitung statistik pada subset data yang dimiliki (misalnya, jumlah rata-rata kopi yang terjual pada hari Senin). Tetapi salah satu hal paling powerful yang dapat kita lakukan untuk menjelajahi data adalah dengan memvisualisasikannya."
   ]
  },
  {
   "cell_type": "markdown",
   "metadata": {},
   "source": [
    "## Matplotlib"
   ]
  },
  {
   "cell_type": "markdown",
   "metadata": {},
   "source": [
    "Matplotlib adalah library/pustaka plotting Python yang paling populer. Library ini memungkinkan kita untuk memvisualisasikan data dengan cepat dengan menyediakan berbagai jenis grafik (misalnya bar, scatter, line, dll). Matplotlib juga menyediakan alat yang berguna untuk mengatur beberapa gambar atau komponen gambar di dalam satu \"figure\", memungkinkan kita untuk membangun visualisasi yang lebih kompleks sesuai kebutuhan.\n",
    "\n",
    "Mari kita visualisasikan beberapa data! Di sel berikutnya, kita akan membuat beberapa data. Untuk saat ini kita akan berfokus pada bagaimana grafik dihasilkan daripada bagaimana data dibuat."
   ]
  },
  {
   "cell_type": "code",
   "execution_count": 39,
   "metadata": {},
   "outputs": [],
   "source": [
    "import matplotlib.pyplot as plt"
   ]
  },
  {
   "cell_type": "code",
   "execution_count": 40,
   "metadata": {},
   "outputs": [
    {
     "data": {
      "image/png": "[encoded data removed]",
      "text/plain": [
       "<Figure size 432x288 with 1 Axes>"
      ]
     },
     "metadata": {
      "needs_background": "light"
     },
     "output_type": "display_data"
    }
   ],
   "source": [
    "def gen_stock_price(days, initial_price):\n",
    "    # harga saham naik atau turun secara linier\n",
    "    # tidak melebihi 10% per tahun (heuristik)\n",
    "    trend = initial_price * (np.arange(days) * .1 / 365 * np.random.rand() * np.random.choice([1, -1]) + 1)\n",
    "    # noise akan menjadi sekitar 2%\n",
    "    noise = .02 * np.random.randn(len(trend)) * trend\n",
    "    return trend + noise\n",
    "\n",
    "days = 365\n",
    "initial_prices = [80, 70, 65]\n",
    "for price in initial_prices:\n",
    "    plt.plot(np.arange(-days, 0), gen_stock_price(days, price))\n",
    "plt.title('Riwayat harga saham untuk %d hari terakhir' % days)\n",
    "plt.xlabel('Waktu (hari)')\n",
    "plt.ylabel('Harga (USD)')\n",
    "plt.legend(['Perusahaan A', 'Perusahaan B', 'Perusahaan C']);"
   ]
  },
  {
   "cell_type": "code",
   "execution_count": 41,
   "metadata": {},
   "outputs": [
    {
     "data": {
      "image/png": "[encoded data removed]",
      "text/plain": [
       "<Figure size 864x432 with 3 Axes>"
      ]
     },
     "metadata": {
      "needs_background": "light"
     },
     "output_type": "display_data"
    }
   ],
   "source": [
    "from scipy.stats import linregress\n",
    "import numpy as np\n",
    "import matplotlib.pyplot as plt\n",
    "\n",
    "def gen_football_team(n_players, mean_shoe, mean_jersey):\n",
    "    shoe_sizes = np.random.normal(size=n_players, loc=mean_shoe, scale=.15 * mean_shoe)\n",
    "    jersey_sizes = mean_jersey / mean_shoe * shoe_sizes + np.random.normal(size=n_players, scale=.05 * mean_jersey)\n",
    "\n",
    "    return shoe_sizes, jersey_sizes\n",
    "\n",
    "shoes, jerseys = gen_football_team(16, 11, 100)\n",
    "\n",
    "fig = plt.figure(figsize=(12, 6))\n",
    "fig.suptitle('Profil peralatan tim football')\n",
    "\n",
    "ax1 = plt.subplot(221)\n",
    "ax1.hist(shoes)\n",
    "ax1.set_xlabel('Ukuran sepatu')\n",
    "ax1.set_ylabel('Counts')\n",
    "\n",
    "ax2 = plt.subplot(223)\n",
    "ax2.hist(jerseys)\n",
    "ax2.set_xlabel('Ukuran dada (cm)')\n",
    "ax2.set_ylabel('Counts')\n",
    "\n",
    "ax3 = plt.subplot(122)\n",
    "ax3.scatter(shoes, jerseys, label='Data')\n",
    "ax3.set_xlabel('Ukuran sepatu')\n",
    "ax3.set_ylabel('Ukuran dada (cm)')\n",
    "\n",
    "fit_line = linregress(shoes, jerseys)\n",
    "ax3.plot(shoes, fit_line[1] + fit_line[0] * shoes, 'r', label='Garis \"best fit\"')\n",
    "\n",
    "handles, labels = ax3.get_legend_handles_labels()\n",
    "ax3.legend(handles[::-1], labels[::-1]);"
   ]
  },
  {
   "cell_type": "code",
   "execution_count": 42,
   "metadata": {},
   "outputs": [
    {
     "data": {
      "image/png": "[encoded data removed]",
      "text/plain": [
       "<Figure size 432x288 with 1 Axes>"
      ]
     },
     "metadata": {
      "needs_background": "light"
     },
     "output_type": "display_data"
    }
   ],
   "source": [
    "def gen_hourly_temps(days):\n",
    "    ndays = len(days)\n",
    "    seasonality = (-15 * np.cos((np.array(days) - 30) * 2.0 * np.pi / 365)).repeat(24) + 10\n",
    "    solar = -3 * np.cos(np.arange(24 * ndays) * 2.0 * np.pi / 24)\n",
    "    weather = np.interp(range(len(days) * 24), range(0, 24 * len(days), 24 * 2), 3 * np.random.randn(np.ceil(float(len(days)) / 2).astype(int)))\n",
    "    noise = .5 * np.random.randn(24 * len(days))\n",
    "\n",
    "    return seasonality + solar + weather + noise\n",
    "\n",
    "days = np.arange(365)\n",
    "hours = np.arange(days[0] * 24, (days[-1] + 1) * 24)\n",
    "plt.plot(hours, gen_hourly_temps(days))\n",
    "plt.title('Temperatur per Jam')\n",
    "plt.xlabel('Waktu (dalam jam sejak 1 Jan.)')\n",
    "plt.ylabel('Temperatur (C)');"
   ]
  },
  {
   "cell_type": "markdown",
   "metadata": {},
   "source": [
    "Dalam contoh di atas kita telah menggunakan perintah `plot` di mana-mana, `subplot` untuk mengatur beberapa plot dalam satu gambar, dan `hist` untuk membuat histogram. Kami juga telah menggunakan \"state machine\" (yaitu menggunakan urutan perintah `plt.method`) dan \"object-oriented\" (yaitu membuat objek gambar dan mengubahnya) plotting paradigms. Package Matplotlib sangat fleksibel dan kemungkinan untuk memvisualisasikan data, sebagian besar dibatasi oleh imajinasi. Cara terbaik untuk menjelajahi Matplotlib dan package visualisasi data lainnya adalah dengan melihat [halaman galeri](https://matplotlib.org/gallery.html) mereka."
   ]
  },
  {
   "cell_type": "code",
   "execution_count": null,
   "metadata": {},
   "outputs": [],
   "source": []
  },
  {
   "cell_type": "markdown",
   "metadata": {},
   "source": [
    "## Pandas"
   ]
  },
  {
   "cell_type": "markdown",
   "metadata": {},
   "source": [
    "NumPy berguna untuk menangani data karena memungkinkan kita menerapkan fungsi secara efisien ke seluruh kumpulan data atau bagian tertentu dari data tersebut. Namun, mungkin sulit untuk melacak data terkait yang mungkin disimpan dalam array berbeda, atau data yang disimpan dalam baris atau kolom berbeda dari array yang sama.\n",
    "\n",
    "Misalnya, di bagian sebelumnya kita memiliki array 1 dimensi untuk ukuran sepatu, dan array 1 dimensi lainnya untuk ukuran dada untuk jersey. Jika kita ingin mencari ukuran sepatu dan jersey untuk pemain tertentu, kita harus mengingat posisinya di setiap array.\n",
    "\n",
    "Atau, kita dapat menggabungkan dua array 1 dimensi untuk membuat array 2 dimensi dengan baris `n_pemain` dan dua kolom (satu untuk ukuran sepatu, satu untuk ukuran jersey). Tapi begitu kita menggabungkan data, kita sekarang harus mengingat kolom mana yang ukuran sepatu dan kolom mana yang ukuran jersey.\n",
    "\n",
    "Package Pandas memperkenalkan tool yang sangat kuat untuk bekerja dengan data menggunakan Python, yaitu DataFrame. DataFrame adalah sebuah tabel. Setiap kolom mewakili tipe data yang berbeda (terkadang disebut **field**). Kolom diberi nama, jadi kita bisa memiliki kolom bernama `'ukuran_sepatu'` dan kolom bernama `'ukuran_jersey'`. Kita tidak perlu mengingat kolom yang mana, karena kita bisa merujuknya dengan nama. Setiap baris mewakili **record** atau **entity** yang berbeda (mis. pemain). Kita juga dapat memberi nama baris, jadi alih-alih mengingat baris mana dalam array kita yang sesuai dengan Ronaldinho, kita dapat memberi nama baris 'Ronaldinho' dan mencari ukuran sepatu dan ukuran jerseynya berdasarkan nama."
   ]
  },
  {
   "cell_type": "code",
   "execution_count": 43,
   "metadata": {},
   "outputs": [
    {
     "data": {
      "text/html": [
       "<div>\n",
       "<style scoped>\n",
       "    .dataframe tbody tr th:only-of-type {\n",
       "        vertical-align: middle;\n",
       "    }\n",
       "\n",
       "    .dataframe tbody tr th {\n",
       "        vertical-align: top;\n",
       "    }\n",
       "\n",
       "    .dataframe thead th {\n",
       "        text-align: right;\n",
       "    }\n",
       "</style>\n",
       "<table border=\"1\" class=\"dataframe\">\n",
       "  <thead>\n",
       "    <tr style=\"text-align: right;\">\n",
       "      <th></th>\n",
       "      <th>ukuran_sepatu</th>\n",
       "      <th>ukuran_jersey</th>\n",
       "    </tr>\n",
       "  </thead>\n",
       "  <tbody>\n",
       "    <tr>\n",
       "      <th>Ronaldinho</th>\n",
       "      <td>8.547275</td>\n",
       "      <td>92.500983</td>\n",
       "    </tr>\n",
       "    <tr>\n",
       "      <th>Pele</th>\n",
       "      <td>7.927346</td>\n",
       "      <td>80.277155</td>\n",
       "    </tr>\n",
       "    <tr>\n",
       "      <th>Lionel Messi</th>\n",
       "      <td>11.155075</td>\n",
       "      <td>101.037748</td>\n",
       "    </tr>\n",
       "    <tr>\n",
       "      <th>Zinedine Zidane</th>\n",
       "      <td>12.259221</td>\n",
       "      <td>119.224510</td>\n",
       "    </tr>\n",
       "    <tr>\n",
       "      <th>Didier Drogba</th>\n",
       "      <td>9.341725</td>\n",
       "      <td>89.126170</td>\n",
       "    </tr>\n",
       "    <tr>\n",
       "      <th>Ronaldo</th>\n",
       "      <td>8.291408</td>\n",
       "      <td>80.182757</td>\n",
       "    </tr>\n",
       "    <tr>\n",
       "      <th>Yaya Toure</th>\n",
       "      <td>6.312746</td>\n",
       "      <td>65.942012</td>\n",
       "    </tr>\n",
       "    <tr>\n",
       "      <th>Frank Rijkaard</th>\n",
       "      <td>8.528853</td>\n",
       "      <td>84.751303</td>\n",
       "    </tr>\n",
       "    <tr>\n",
       "      <th>Diego Maradona</th>\n",
       "      <td>9.829515</td>\n",
       "      <td>97.910820</td>\n",
       "    </tr>\n",
       "    <tr>\n",
       "      <th>Mohamed Aboutrika</th>\n",
       "      <td>12.398685</td>\n",
       "      <td>130.554214</td>\n",
       "    </tr>\n",
       "    <tr>\n",
       "      <th>Samuel Eto'o</th>\n",
       "      <td>11.009701</td>\n",
       "      <td>106.614700</td>\n",
       "    </tr>\n",
       "    <tr>\n",
       "      <th>George Best</th>\n",
       "      <td>10.457628</td>\n",
       "      <td>113.897279</td>\n",
       "    </tr>\n",
       "    <tr>\n",
       "      <th>George Weah</th>\n",
       "      <td>9.399821</td>\n",
       "      <td>90.641667</td>\n",
       "    </tr>\n",
       "    <tr>\n",
       "      <th>Roberto Donadoni</th>\n",
       "      <td>9.125251</td>\n",
       "      <td>91.698505</td>\n",
       "    </tr>\n",
       "  </tbody>\n",
       "</table>\n",
       "</div>"
      ],
      "text/plain": [
       "                   ukuran_sepatu  ukuran_jersey\n",
       "Ronaldinho              8.547275      92.500983\n",
       "Pele                    7.927346      80.277155\n",
       "Lionel Messi           11.155075     101.037748\n",
       "Zinedine Zidane        12.259221     119.224510\n",
       "Didier Drogba           9.341725      89.126170\n",
       "Ronaldo                 8.291408      80.182757\n",
       "Yaya Toure              6.312746      65.942012\n",
       "Frank Rijkaard          8.528853      84.751303\n",
       "Diego Maradona          9.829515      97.910820\n",
       "Mohamed Aboutrika      12.398685     130.554214\n",
       "Samuel Eto'o           11.009701     106.614700\n",
       "George Best            10.457628     113.897279\n",
       "George Weah             9.399821      90.641667\n",
       "Roberto Donadoni        9.125251      91.698505"
      ]
     },
     "execution_count": 43,
     "metadata": {},
     "output_type": "execute_result"
    }
   ],
   "source": [
    "import pandas as pd\n",
    "\n",
    "pemain = ['Ronaldinho', 'Pele', 'Lionel Messi', 'Zinedine Zidane', 'Didier Drogba', 'Ronaldo', 'Yaya Toure', \n",
    "           'Frank Rijkaard', 'Diego Maradona', 'Mohamed Aboutrika', \"Samuel Eto'o\", 'George Best', 'George Weah', \n",
    "           'Roberto Donadoni']\n",
    "sepatu, jersey = gen_football_team(len(pemain), 10, 100)\n",
    "\n",
    "df = pd.DataFrame({'ukuran_sepatu': sepatu, 'ukuran_jersey': jersey}, index = pemain)\n",
    "\n",
    "df"
   ]
  },
  {
   "cell_type": "code",
   "execution_count": 44,
   "metadata": {},
   "outputs": [
    {
     "data": {
      "text/html": [
       "<div>\n",
       "<style scoped>\n",
       "    .dataframe tbody tr th:only-of-type {\n",
       "        vertical-align: middle;\n",
       "    }\n",
       "\n",
       "    .dataframe tbody tr th {\n",
       "        vertical-align: top;\n",
       "    }\n",
       "\n",
       "    .dataframe thead th {\n",
       "        text-align: right;\n",
       "    }\n",
       "</style>\n",
       "<table border=\"1\" class=\"dataframe\">\n",
       "  <thead>\n",
       "    <tr style=\"text-align: right;\">\n",
       "      <th></th>\n",
       "      <th>ukuran_sepatu</th>\n",
       "      <th>ukuran_jersey</th>\n",
       "    </tr>\n",
       "  </thead>\n",
       "  <tbody>\n",
       "    <tr>\n",
       "      <th>Ronaldinho</th>\n",
       "      <td>8.547275</td>\n",
       "      <td>92.500983</td>\n",
       "    </tr>\n",
       "    <tr>\n",
       "      <th>Pele</th>\n",
       "      <td>7.927346</td>\n",
       "      <td>80.277155</td>\n",
       "    </tr>\n",
       "    <tr>\n",
       "      <th>Lionel Messi</th>\n",
       "      <td>11.155075</td>\n",
       "      <td>101.037748</td>\n",
       "    </tr>\n",
       "    <tr>\n",
       "      <th>Zinedine Zidane</th>\n",
       "      <td>12.259221</td>\n",
       "      <td>119.224510</td>\n",
       "    </tr>\n",
       "    <tr>\n",
       "      <th>Didier Drogba</th>\n",
       "      <td>9.341725</td>\n",
       "      <td>89.126170</td>\n",
       "    </tr>\n",
       "    <tr>\n",
       "      <th>Ronaldo</th>\n",
       "      <td>8.291408</td>\n",
       "      <td>80.182757</td>\n",
       "    </tr>\n",
       "    <tr>\n",
       "      <th>Yaya Toure</th>\n",
       "      <td>6.312746</td>\n",
       "      <td>65.942012</td>\n",
       "    </tr>\n",
       "    <tr>\n",
       "      <th>Frank Rijkaard</th>\n",
       "      <td>8.528853</td>\n",
       "      <td>84.751303</td>\n",
       "    </tr>\n",
       "    <tr>\n",
       "      <th>Diego Maradona</th>\n",
       "      <td>9.829515</td>\n",
       "      <td>97.910820</td>\n",
       "    </tr>\n",
       "    <tr>\n",
       "      <th>Mohamed Aboutrika</th>\n",
       "      <td>12.398685</td>\n",
       "      <td>130.554214</td>\n",
       "    </tr>\n",
       "    <tr>\n",
       "      <th>Samuel Eto'o</th>\n",
       "      <td>11.009701</td>\n",
       "      <td>106.614700</td>\n",
       "    </tr>\n",
       "    <tr>\n",
       "      <th>George Best</th>\n",
       "      <td>10.457628</td>\n",
       "      <td>113.897279</td>\n",
       "    </tr>\n",
       "    <tr>\n",
       "      <th>George Weah</th>\n",
       "      <td>9.399821</td>\n",
       "      <td>90.641667</td>\n",
       "    </tr>\n",
       "    <tr>\n",
       "      <th>Roberto Donadoni</th>\n",
       "      <td>9.125251</td>\n",
       "      <td>91.698505</td>\n",
       "    </tr>\n",
       "  </tbody>\n",
       "</table>\n",
       "</div>"
      ],
      "text/plain": [
       "                   ukuran_sepatu  ukuran_jersey\n",
       "Ronaldinho              8.547275      92.500983\n",
       "Pele                    7.927346      80.277155\n",
       "Lionel Messi           11.155075     101.037748\n",
       "Zinedine Zidane        12.259221     119.224510\n",
       "Didier Drogba           9.341725      89.126170\n",
       "Ronaldo                 8.291408      80.182757\n",
       "Yaya Toure              6.312746      65.942012\n",
       "Frank Rijkaard          8.528853      84.751303\n",
       "Diego Maradona          9.829515      97.910820\n",
       "Mohamed Aboutrika      12.398685     130.554214\n",
       "Samuel Eto'o           11.009701     106.614700\n",
       "George Best            10.457628     113.897279\n",
       "George Weah             9.399821      90.641667\n",
       "Roberto Donadoni        9.125251      91.698505"
      ]
     },
     "execution_count": 44,
     "metadata": {},
     "output_type": "execute_result"
    }
   ],
   "source": [
    "# kita juga bisa membuat dataframe menggunakan zip\n",
    "\n",
    "df = pd.DataFrame(list(zip(sepatu, jersey)), columns = ['ukuran_sepatu', 'ukuran_jersey'], index = pemain)\n",
    "\n",
    "df"
   ]
  },
  {
   "cell_type": "markdown",
   "metadata": {},
   "source": [
    "DataFrame memiliki similaritas dengan `dict` dan `ndarray` NumPy. Misalnya, kita dapat mengambil kolom dari DataFrame dengan menggunakan namanya, sama seperti kita akan mengambil item dari `dict` menggunakan key-nya."
   ]
  },
  {
   "cell_type": "code",
   "execution_count": 45,
   "metadata": {},
   "outputs": [
    {
     "name": "stdout",
     "output_type": "stream",
     "text": [
      "Ronaldinho            8.547275\n",
      "Pele                  7.927346\n",
      "Lionel Messi         11.155075\n",
      "Zinedine Zidane      12.259221\n",
      "Didier Drogba         9.341725\n",
      "Ronaldo               8.291408\n",
      "Yaya Toure            6.312746\n",
      "Frank Rijkaard        8.528853\n",
      "Diego Maradona        9.829515\n",
      "Mohamed Aboutrika    12.398685\n",
      "Samuel Eto'o         11.009701\n",
      "George Best          10.457628\n",
      "George Weah           9.399821\n",
      "Roberto Donadoni      9.125251\n",
      "Name: ukuran_sepatu, dtype: float64\n"
     ]
    }
   ],
   "source": [
    "print(df['ukuran_sepatu'])"
   ]
  },
  {
   "cell_type": "markdown",
   "metadata": {},
   "source": [
    "Dan kita dapat dengan mudah menerapkan fungsi ke DataFrame, seperti yang kita lakukan dengan array NumPy."
   ]
  },
  {
   "cell_type": "code",
   "execution_count": 46,
   "metadata": {},
   "outputs": [
    {
     "name": "stdout",
     "output_type": "stream",
     "text": [
      "                   ukuran_sepatu  ukuran_jersey\n",
      "Ronaldinho              2.145612       4.527219\n",
      "Pele                    2.070318       4.385485\n",
      "Lionel Messi            2.411895       4.615494\n",
      "Zinedine Zidane         2.506278       4.781008\n",
      "Didier Drogba           2.234491       4.490053\n",
      "Ronaldo                 2.115220       4.384308\n",
      "Yaya Toure              1.842571       4.188776\n",
      "Frank Rijkaard          2.143455       4.439721\n",
      "Diego Maradona          2.285390       4.584057\n",
      "Mohamed Aboutrika       2.517590       4.871789\n",
      "Samuel Eto'o            2.398777       4.669221\n",
      "George Best             2.347332       4.735297\n",
      "George Weah             2.240691       4.506914\n",
      "Roberto Donadoni        2.211045       4.518506\n"
     ]
    }
   ],
   "source": [
    "print(np.log(df))"
   ]
  },
  {
   "cell_type": "code",
   "execution_count": 47,
   "metadata": {},
   "outputs": [
    {
     "data": {
      "text/plain": [
       "ukuran_sepatu     9.613161\n",
       "ukuran_jersey    96.025702\n",
       "dtype: float64"
      ]
     },
     "execution_count": 47,
     "metadata": {},
     "output_type": "execute_result"
    }
   ],
   "source": [
    "df.mean()"
   ]
  },
  {
   "cell_type": "markdown",
   "metadata": {},
   "source": [
    "Pertama kita perlu tahu cara mengambil, menambah, dan menghapus data dari DataFrame.\n",
    "\n",
    "Kita telah melihat cara mengambil kolom, bagaimana dengan mengambil baris? Sintaks yang paling fleksibel adalah dengan menggunakan metode `loc` DataFrame."
   ]
  },
  {
   "cell_type": "code",
   "execution_count": 48,
   "metadata": {},
   "outputs": [
    {
     "name": "stdout",
     "output_type": "stream",
     "text": [
      "ukuran_sepatu     8.291408\n",
      "ukuran_jersey    80.182757\n",
      "Name: Ronaldo, dtype: float64\n"
     ]
    }
   ],
   "source": [
    "print(df.loc['Ronaldo'])"
   ]
  },
  {
   "cell_type": "code",
   "execution_count": 49,
   "metadata": {},
   "outputs": [
    {
     "name": "stdout",
     "output_type": "stream",
     "text": [
      "Ronaldo         8.291408\n",
      "George Best    10.457628\n",
      "Name: ukuran_sepatu, dtype: float64\n"
     ]
    }
   ],
   "source": [
    "print(df.loc[['Ronaldo', 'George Best'], 'ukuran_sepatu'])"
   ]
  },
  {
   "cell_type": "code",
   "execution_count": 50,
   "metadata": {},
   "outputs": [
    {
     "name": "stdout",
     "output_type": "stream",
     "text": [
      "Ronaldo               8.291408\n",
      "Yaya Toure            6.312746\n",
      "Frank Rijkaard        8.528853\n",
      "Diego Maradona        9.829515\n",
      "Mohamed Aboutrika    12.398685\n",
      "Samuel Eto'o         11.009701\n",
      "George Best          10.457628\n",
      "Name: ukuran_sepatu, dtype: float64\n"
     ]
    }
   ],
   "source": [
    "# juga dapat memilih slice data berdasarkan posisi\n",
    "print(df.loc['Ronaldo':'George Best', 'ukuran_sepatu'])"
   ]
  },
  {
   "cell_type": "code",
   "execution_count": 51,
   "metadata": {},
   "outputs": [
    {
     "name": "stdout",
     "output_type": "stream",
     "text": [
      "                 ukuran_sepatu  ukuran_jersey\n",
      "Ronaldinho            8.547275      92.500983\n",
      "Pele                  7.927346      80.277155\n",
      "Lionel Messi         11.155075     101.037748\n",
      "Zinedine Zidane      12.259221     119.224510\n",
      "Didier Drogba         9.341725      89.126170\n"
     ]
    }
   ],
   "source": [
    "# untuk pengindeksan berbasis posisi, kita biasanya akan menggunakan iloc\n",
    "print(df.iloc[:5])"
   ]
  },
  {
   "cell_type": "code",
   "execution_count": 52,
   "metadata": {},
   "outputs": [
    {
     "name": "stdout",
     "output_type": "stream",
     "text": [
      "Lionel Messi       11.155075\n",
      "Zinedine Zidane    12.259221\n",
      "Name: ukuran_sepatu, dtype: float64\n"
     ]
    }
   ],
   "source": [
    "print(df.iloc[2:4, 0])"
   ]
  },
  {
   "cell_type": "code",
   "execution_count": 53,
   "metadata": {},
   "outputs": [
    {
     "data": {
      "text/html": [
       "<div>\n",
       "<style scoped>\n",
       "    .dataframe tbody tr th:only-of-type {\n",
       "        vertical-align: middle;\n",
       "    }\n",
       "\n",
       "    .dataframe tbody tr th {\n",
       "        vertical-align: top;\n",
       "    }\n",
       "\n",
       "    .dataframe thead th {\n",
       "        text-align: right;\n",
       "    }\n",
       "</style>\n",
       "<table border=\"1\" class=\"dataframe\">\n",
       "  <thead>\n",
       "    <tr style=\"text-align: right;\">\n",
       "      <th></th>\n",
       "      <th>ukuran_sepatu</th>\n",
       "      <th>ukuran_jersey</th>\n",
       "    </tr>\n",
       "  </thead>\n",
       "  <tbody>\n",
       "    <tr>\n",
       "      <th>Ronaldinho</th>\n",
       "      <td>8.547275</td>\n",
       "      <td>92.500983</td>\n",
       "    </tr>\n",
       "    <tr>\n",
       "      <th>Pele</th>\n",
       "      <td>7.927346</td>\n",
       "      <td>80.277155</td>\n",
       "    </tr>\n",
       "    <tr>\n",
       "      <th>Lionel Messi</th>\n",
       "      <td>11.155075</td>\n",
       "      <td>101.037748</td>\n",
       "    </tr>\n",
       "    <tr>\n",
       "      <th>Zinedine Zidane</th>\n",
       "      <td>12.259221</td>\n",
       "      <td>119.224510</td>\n",
       "    </tr>\n",
       "    <tr>\n",
       "      <th>Didier Drogba</th>\n",
       "      <td>9.341725</td>\n",
       "      <td>89.126170</td>\n",
       "    </tr>\n",
       "  </tbody>\n",
       "</table>\n",
       "</div>"
      ],
      "text/plain": [
       "                 ukuran_sepatu  ukuran_jersey\n",
       "Ronaldinho            8.547275      92.500983\n",
       "Pele                  7.927346      80.277155\n",
       "Lionel Messi         11.155075     101.037748\n",
       "Zinedine Zidane      12.259221     119.224510\n",
       "Didier Drogba         9.341725      89.126170"
      ]
     },
     "execution_count": 53,
     "metadata": {},
     "output_type": "execute_result"
    }
   ],
   "source": [
    "# untuk hanya melihat bagian atas DataFrame, gunakan head\n",
    "df.head()"
   ]
  },
  {
   "cell_type": "code",
   "execution_count": 54,
   "metadata": {},
   "outputs": [
    {
     "data": {
      "text/html": [
       "<div>\n",
       "<style scoped>\n",
       "    .dataframe tbody tr th:only-of-type {\n",
       "        vertical-align: middle;\n",
       "    }\n",
       "\n",
       "    .dataframe tbody tr th {\n",
       "        vertical-align: top;\n",
       "    }\n",
       "\n",
       "    .dataframe thead th {\n",
       "        text-align: right;\n",
       "    }\n",
       "</style>\n",
       "<table border=\"1\" class=\"dataframe\">\n",
       "  <thead>\n",
       "    <tr style=\"text-align: right;\">\n",
       "      <th></th>\n",
       "      <th>ukuran_sepatu</th>\n",
       "      <th>ukuran_jersey</th>\n",
       "    </tr>\n",
       "  </thead>\n",
       "  <tbody>\n",
       "    <tr>\n",
       "      <th>Mohamed Aboutrika</th>\n",
       "      <td>12.398685</td>\n",
       "      <td>130.554214</td>\n",
       "    </tr>\n",
       "    <tr>\n",
       "      <th>Samuel Eto'o</th>\n",
       "      <td>11.009701</td>\n",
       "      <td>106.614700</td>\n",
       "    </tr>\n",
       "    <tr>\n",
       "      <th>George Best</th>\n",
       "      <td>10.457628</td>\n",
       "      <td>113.897279</td>\n",
       "    </tr>\n",
       "    <tr>\n",
       "      <th>George Weah</th>\n",
       "      <td>9.399821</td>\n",
       "      <td>90.641667</td>\n",
       "    </tr>\n",
       "    <tr>\n",
       "      <th>Roberto Donadoni</th>\n",
       "      <td>9.125251</td>\n",
       "      <td>91.698505</td>\n",
       "    </tr>\n",
       "  </tbody>\n",
       "</table>\n",
       "</div>"
      ],
      "text/plain": [
       "                   ukuran_sepatu  ukuran_jersey\n",
       "Mohamed Aboutrika      12.398685     130.554214\n",
       "Samuel Eto'o           11.009701     106.614700\n",
       "George Best            10.457628     113.897279\n",
       "George Weah             9.399821      90.641667\n",
       "Roberto Donadoni        9.125251      91.698505"
      ]
     },
     "execution_count": 54,
     "metadata": {},
     "output_type": "execute_result"
    }
   ],
   "source": [
    "# untuk bagian bawah gunakan tail\n",
    "df.tail()"
   ]
  },
  {
   "cell_type": "markdown",
   "metadata": {},
   "source": [
    "Seperti halnya `dict`, kita dapat menambahkan data ke DataFrame hanya dengan menggunakan sintaks yang sama seperti yang kita gunakan untuk mengambil data, tetapi mencocokkannya dengan satu assignment."
   ]
  },
  {
   "cell_type": "code",
   "execution_count": 55,
   "metadata": {},
   "outputs": [
    {
     "data": {
      "text/html": [
       "<div>\n",
       "<style scoped>\n",
       "    .dataframe tbody tr th:only-of-type {\n",
       "        vertical-align: middle;\n",
       "    }\n",
       "\n",
       "    .dataframe tbody tr th {\n",
       "        vertical-align: top;\n",
       "    }\n",
       "\n",
       "    .dataframe thead th {\n",
       "        text-align: right;\n",
       "    }\n",
       "</style>\n",
       "<table border=\"1\" class=\"dataframe\">\n",
       "  <thead>\n",
       "    <tr style=\"text-align: right;\">\n",
       "      <th></th>\n",
       "      <th>ukuran_sepatu</th>\n",
       "      <th>ukuran_jersey</th>\n",
       "      <th>position</th>\n",
       "    </tr>\n",
       "  </thead>\n",
       "  <tbody>\n",
       "    <tr>\n",
       "      <th>Ronaldinho</th>\n",
       "      <td>8.547275</td>\n",
       "      <td>92.500983</td>\n",
       "      <td>goaltender</td>\n",
       "    </tr>\n",
       "    <tr>\n",
       "      <th>Pele</th>\n",
       "      <td>7.927346</td>\n",
       "      <td>80.277155</td>\n",
       "      <td>defense</td>\n",
       "    </tr>\n",
       "    <tr>\n",
       "      <th>Lionel Messi</th>\n",
       "      <td>11.155075</td>\n",
       "      <td>101.037748</td>\n",
       "      <td>goaltender</td>\n",
       "    </tr>\n",
       "    <tr>\n",
       "      <th>Zinedine Zidane</th>\n",
       "      <td>12.259221</td>\n",
       "      <td>119.224510</td>\n",
       "      <td>defense</td>\n",
       "    </tr>\n",
       "    <tr>\n",
       "      <th>Didier Drogba</th>\n",
       "      <td>9.341725</td>\n",
       "      <td>89.126170</td>\n",
       "      <td>attack</td>\n",
       "    </tr>\n",
       "  </tbody>\n",
       "</table>\n",
       "</div>"
      ],
      "text/plain": [
       "                 ukuran_sepatu  ukuran_jersey    position\n",
       "Ronaldinho            8.547275      92.500983  goaltender\n",
       "Pele                  7.927346      80.277155     defense\n",
       "Lionel Messi         11.155075     101.037748  goaltender\n",
       "Zinedine Zidane      12.259221     119.224510     defense\n",
       "Didier Drogba         9.341725      89.126170      attack"
      ]
     },
     "execution_count": 55,
     "metadata": {},
     "output_type": "execute_result"
    }
   ],
   "source": [
    "# menambahkan kolom baru\n",
    "df['position'] = np.random.choice(['goaltender', 'defense', 'midfield', 'attack'], size=len(df))\n",
    "df.head()"
   ]
  },
  {
   "cell_type": "code",
   "execution_count": 56,
   "metadata": {},
   "outputs": [
    {
     "data": {
      "text/plain": [
       "ukuran_sepatu         NaN\n",
       "ukuran_jersey         NaN\n",
       "position         midfield\n",
       "Name: Dylan, dtype: object"
      ]
     },
     "execution_count": 56,
     "metadata": {},
     "output_type": "execute_result"
    }
   ],
   "source": [
    "# menambahkan baris baru\n",
    "df.loc['Dylan'] = {'jersey_size': 91, 'shoe_size': 9, 'position': 'midfield'}\n",
    "df.loc['Dylan']"
   ]
  },
  {
   "cell_type": "markdown",
   "metadata": {},
   "source": [
    "Untuk menghapus data, kita dapat menggunakan metode `drop` DataFrame."
   ]
  },
  {
   "cell_type": "code",
   "execution_count": 57,
   "metadata": {},
   "outputs": [
    {
     "data": {
      "text/html": [
       "<div>\n",
       "<style scoped>\n",
       "    .dataframe tbody tr th:only-of-type {\n",
       "        vertical-align: middle;\n",
       "    }\n",
       "\n",
       "    .dataframe tbody tr th {\n",
       "        vertical-align: top;\n",
       "    }\n",
       "\n",
       "    .dataframe thead th {\n",
       "        text-align: right;\n",
       "    }\n",
       "</style>\n",
       "<table border=\"1\" class=\"dataframe\">\n",
       "  <thead>\n",
       "    <tr style=\"text-align: right;\">\n",
       "      <th></th>\n",
       "      <th>ukuran_sepatu</th>\n",
       "      <th>ukuran_jersey</th>\n",
       "      <th>position</th>\n",
       "    </tr>\n",
       "  </thead>\n",
       "  <tbody>\n",
       "    <tr>\n",
       "      <th>Ronaldinho</th>\n",
       "      <td>8.547275</td>\n",
       "      <td>92.500983</td>\n",
       "      <td>goaltender</td>\n",
       "    </tr>\n",
       "    <tr>\n",
       "      <th>Pele</th>\n",
       "      <td>7.927346</td>\n",
       "      <td>80.277155</td>\n",
       "      <td>defense</td>\n",
       "    </tr>\n",
       "    <tr>\n",
       "      <th>Lionel Messi</th>\n",
       "      <td>11.155075</td>\n",
       "      <td>101.037748</td>\n",
       "      <td>goaltender</td>\n",
       "    </tr>\n",
       "    <tr>\n",
       "      <th>Zinedine Zidane</th>\n",
       "      <td>12.259221</td>\n",
       "      <td>119.224510</td>\n",
       "      <td>defense</td>\n",
       "    </tr>\n",
       "    <tr>\n",
       "      <th>Didier Drogba</th>\n",
       "      <td>9.341725</td>\n",
       "      <td>89.126170</td>\n",
       "      <td>attack</td>\n",
       "    </tr>\n",
       "    <tr>\n",
       "      <th>Ronaldo</th>\n",
       "      <td>8.291408</td>\n",
       "      <td>80.182757</td>\n",
       "      <td>defense</td>\n",
       "    </tr>\n",
       "    <tr>\n",
       "      <th>Yaya Toure</th>\n",
       "      <td>6.312746</td>\n",
       "      <td>65.942012</td>\n",
       "      <td>midfield</td>\n",
       "    </tr>\n",
       "    <tr>\n",
       "      <th>Frank Rijkaard</th>\n",
       "      <td>8.528853</td>\n",
       "      <td>84.751303</td>\n",
       "      <td>midfield</td>\n",
       "    </tr>\n",
       "    <tr>\n",
       "      <th>Diego Maradona</th>\n",
       "      <td>9.829515</td>\n",
       "      <td>97.910820</td>\n",
       "      <td>attack</td>\n",
       "    </tr>\n",
       "    <tr>\n",
       "      <th>Mohamed Aboutrika</th>\n",
       "      <td>12.398685</td>\n",
       "      <td>130.554214</td>\n",
       "      <td>goaltender</td>\n",
       "    </tr>\n",
       "    <tr>\n",
       "      <th>Samuel Eto'o</th>\n",
       "      <td>11.009701</td>\n",
       "      <td>106.614700</td>\n",
       "      <td>defense</td>\n",
       "    </tr>\n",
       "    <tr>\n",
       "      <th>George Best</th>\n",
       "      <td>10.457628</td>\n",
       "      <td>113.897279</td>\n",
       "      <td>midfield</td>\n",
       "    </tr>\n",
       "    <tr>\n",
       "      <th>George Weah</th>\n",
       "      <td>9.399821</td>\n",
       "      <td>90.641667</td>\n",
       "      <td>defense</td>\n",
       "    </tr>\n",
       "    <tr>\n",
       "      <th>Roberto Donadoni</th>\n",
       "      <td>9.125251</td>\n",
       "      <td>91.698505</td>\n",
       "      <td>midfield</td>\n",
       "    </tr>\n",
       "  </tbody>\n",
       "</table>\n",
       "</div>"
      ],
      "text/plain": [
       "                   ukuran_sepatu  ukuran_jersey    position\n",
       "Ronaldinho              8.547275      92.500983  goaltender\n",
       "Pele                    7.927346      80.277155     defense\n",
       "Lionel Messi           11.155075     101.037748  goaltender\n",
       "Zinedine Zidane        12.259221     119.224510     defense\n",
       "Didier Drogba           9.341725      89.126170      attack\n",
       "Ronaldo                 8.291408      80.182757     defense\n",
       "Yaya Toure              6.312746      65.942012    midfield\n",
       "Frank Rijkaard          8.528853      84.751303    midfield\n",
       "Diego Maradona          9.829515      97.910820      attack\n",
       "Mohamed Aboutrika      12.398685     130.554214  goaltender\n",
       "Samuel Eto'o           11.009701     106.614700     defense\n",
       "George Best            10.457628     113.897279    midfield\n",
       "George Weah             9.399821      90.641667     defense\n",
       "Roberto Donadoni        9.125251      91.698505    midfield"
      ]
     },
     "execution_count": 57,
     "metadata": {},
     "output_type": "execute_result"
    }
   ],
   "source": [
    "df.drop('Dylan')"
   ]
  },
  {
   "cell_type": "code",
   "execution_count": 58,
   "metadata": {},
   "outputs": [
    {
     "data": {
      "text/html": [
       "<div>\n",
       "<style scoped>\n",
       "    .dataframe tbody tr th:only-of-type {\n",
       "        vertical-align: middle;\n",
       "    }\n",
       "\n",
       "    .dataframe tbody tr th {\n",
       "        vertical-align: top;\n",
       "    }\n",
       "\n",
       "    .dataframe thead th {\n",
       "        text-align: right;\n",
       "    }\n",
       "</style>\n",
       "<table border=\"1\" class=\"dataframe\">\n",
       "  <thead>\n",
       "    <tr style=\"text-align: right;\">\n",
       "      <th></th>\n",
       "      <th>ukuran_sepatu</th>\n",
       "      <th>ukuran_jersey</th>\n",
       "    </tr>\n",
       "  </thead>\n",
       "  <tbody>\n",
       "    <tr>\n",
       "      <th>Ronaldinho</th>\n",
       "      <td>8.547275</td>\n",
       "      <td>92.500983</td>\n",
       "    </tr>\n",
       "    <tr>\n",
       "      <th>Pele</th>\n",
       "      <td>7.927346</td>\n",
       "      <td>80.277155</td>\n",
       "    </tr>\n",
       "    <tr>\n",
       "      <th>Lionel Messi</th>\n",
       "      <td>11.155075</td>\n",
       "      <td>101.037748</td>\n",
       "    </tr>\n",
       "    <tr>\n",
       "      <th>Zinedine Zidane</th>\n",
       "      <td>12.259221</td>\n",
       "      <td>119.224510</td>\n",
       "    </tr>\n",
       "    <tr>\n",
       "      <th>Didier Drogba</th>\n",
       "      <td>9.341725</td>\n",
       "      <td>89.126170</td>\n",
       "    </tr>\n",
       "    <tr>\n",
       "      <th>Ronaldo</th>\n",
       "      <td>8.291408</td>\n",
       "      <td>80.182757</td>\n",
       "    </tr>\n",
       "    <tr>\n",
       "      <th>Yaya Toure</th>\n",
       "      <td>6.312746</td>\n",
       "      <td>65.942012</td>\n",
       "    </tr>\n",
       "    <tr>\n",
       "      <th>Frank Rijkaard</th>\n",
       "      <td>8.528853</td>\n",
       "      <td>84.751303</td>\n",
       "    </tr>\n",
       "    <tr>\n",
       "      <th>Diego Maradona</th>\n",
       "      <td>9.829515</td>\n",
       "      <td>97.910820</td>\n",
       "    </tr>\n",
       "    <tr>\n",
       "      <th>Mohamed Aboutrika</th>\n",
       "      <td>12.398685</td>\n",
       "      <td>130.554214</td>\n",
       "    </tr>\n",
       "    <tr>\n",
       "      <th>Samuel Eto'o</th>\n",
       "      <td>11.009701</td>\n",
       "      <td>106.614700</td>\n",
       "    </tr>\n",
       "    <tr>\n",
       "      <th>George Best</th>\n",
       "      <td>10.457628</td>\n",
       "      <td>113.897279</td>\n",
       "    </tr>\n",
       "    <tr>\n",
       "      <th>George Weah</th>\n",
       "      <td>9.399821</td>\n",
       "      <td>90.641667</td>\n",
       "    </tr>\n",
       "    <tr>\n",
       "      <th>Roberto Donadoni</th>\n",
       "      <td>9.125251</td>\n",
       "      <td>91.698505</td>\n",
       "    </tr>\n",
       "    <tr>\n",
       "      <th>Dylan</th>\n",
       "      <td>NaN</td>\n",
       "      <td>NaN</td>\n",
       "    </tr>\n",
       "  </tbody>\n",
       "</table>\n",
       "</div>"
      ],
      "text/plain": [
       "                   ukuran_sepatu  ukuran_jersey\n",
       "Ronaldinho              8.547275      92.500983\n",
       "Pele                    7.927346      80.277155\n",
       "Lionel Messi           11.155075     101.037748\n",
       "Zinedine Zidane        12.259221     119.224510\n",
       "Didier Drogba           9.341725      89.126170\n",
       "Ronaldo                 8.291408      80.182757\n",
       "Yaya Toure              6.312746      65.942012\n",
       "Frank Rijkaard          8.528853      84.751303\n",
       "Diego Maradona          9.829515      97.910820\n",
       "Mohamed Aboutrika      12.398685     130.554214\n",
       "Samuel Eto'o           11.009701     106.614700\n",
       "George Best            10.457628     113.897279\n",
       "George Weah             9.399821      90.641667\n",
       "Roberto Donadoni        9.125251      91.698505\n",
       "Dylan                        NaN            NaN"
      ]
     },
     "execution_count": 58,
     "metadata": {},
     "output_type": "execute_result"
    }
   ],
   "source": [
    "df.drop('position', axis=1)"
   ]
  },
  {
   "cell_type": "markdown",
   "metadata": {},
   "source": [
    "Perhatikan saat kita mengeksekusi `df.drop('position', axis=1)`, ada entri untuk `Dylan` meskipun kita baru saja mengeksekusi `df.drop('Dylan')`. Kita harus berhati-hati saat menggunakan `drop`; banyak fungsi DataFrame mengembalikan _copy_ dari DataFrame. Untuk membuat perubahan permanen, kita perlu menetapkan kembali `df` ke salinan yang dikembalikan oleh `df.drop()` atau kita harus menggunakan kata kunci `inplace`."
   ]
  },
  {
   "cell_type": "code",
   "execution_count": 59,
   "metadata": {},
   "outputs": [
    {
     "name": "stdout",
     "output_type": "stream",
     "text": [
      "                   ukuran_sepatu  ukuran_jersey    position\n",
      "Ronaldinho              8.547275      92.500983  goaltender\n",
      "Pele                    7.927346      80.277155     defense\n",
      "Lionel Messi           11.155075     101.037748  goaltender\n",
      "Zinedine Zidane        12.259221     119.224510     defense\n",
      "Didier Drogba           9.341725      89.126170      attack\n",
      "Ronaldo                 8.291408      80.182757     defense\n",
      "Yaya Toure              6.312746      65.942012    midfield\n",
      "Frank Rijkaard          8.528853      84.751303    midfield\n",
      "Diego Maradona          9.829515      97.910820      attack\n",
      "Mohamed Aboutrika      12.398685     130.554214  goaltender\n",
      "Samuel Eto'o           11.009701     106.614700     defense\n",
      "George Best            10.457628     113.897279    midfield\n",
      "George Weah             9.399821      90.641667     defense\n",
      "Roberto Donadoni        9.125251      91.698505    midfield\n"
     ]
    }
   ],
   "source": [
    "df = df.drop('Dylan')\n",
    "print(df)"
   ]
  },
  {
   "cell_type": "code",
   "execution_count": 60,
   "metadata": {},
   "outputs": [
    {
     "name": "stdout",
     "output_type": "stream",
     "text": [
      "                   ukuran_sepatu  ukuran_jersey\n",
      "Ronaldinho              8.547275      92.500983\n",
      "Pele                    7.927346      80.277155\n",
      "Lionel Messi           11.155075     101.037748\n",
      "Zinedine Zidane        12.259221     119.224510\n",
      "Didier Drogba           9.341725      89.126170\n",
      "Ronaldo                 8.291408      80.182757\n",
      "Yaya Toure              6.312746      65.942012\n",
      "Frank Rijkaard          8.528853      84.751303\n",
      "Diego Maradona          9.829515      97.910820\n",
      "Mohamed Aboutrika      12.398685     130.554214\n",
      "Samuel Eto'o           11.009701     106.614700\n",
      "George Best            10.457628     113.897279\n",
      "George Weah             9.399821      90.641667\n",
      "Roberto Donadoni        9.125251      91.698505\n"
     ]
    }
   ],
   "source": [
    "df.drop('position', axis=1, inplace=True)\n",
    "print(df)"
   ]
  },
  {
   "cell_type": "code",
   "execution_count": null,
   "metadata": {},
   "outputs": [],
   "source": []
  }
 ],
 "metadata": {
  "kernelspec": {
   "display_name": "Python 3 (ipykernel)",
   "language": "python",
   "name": "python3"
  },
  "language_info": {
   "codemirror_mode": {
    "name": "ipython",
    "version": 3
   },
   "file_extension": ".py",
   "mimetype": "text/x-python",
   "name": "python",
   "nbconvert_exporter": "python",
   "pygments_lexer": "ipython3",
   "version": "3.9.7"
  }
 },
 "nbformat": 4,
 "nbformat_minor": 4
}
