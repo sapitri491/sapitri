{
 "cells": [
  {
   "cell_type": "markdown",
   "metadata": {},
   "source": [
    "# Object Oriented Programming\n",
    "\n",
    "Ada beberapa istilah yang harus kita sepakati, terkadang saat programming dengan Python kita mengacu pada **objek/object** atau **objek Python**. Kita juga telah menggunakan beberapa **metode/method** objek (misalnya metode `get` dari `dict`). Apa yang dimaksud dari istilah-istilah ini?\n",
    "\n",
    "Untuk saat ini kita dapat menganggap sebuah objek sebagai apapun yang dapat kita simpan dalam sebuah variabel. Kita dapat memiliki objek dengan `type` yang berbeda. Kita dapat juga menyebut `type` sebuah objek sebagai **class**."
   ]
  },
  {
   "cell_type": "code",
   "execution_count": 1,
   "metadata": {},
   "outputs": [
    {
     "name": "stdout",
     "output_type": "stream",
     "text": [
      "28 adalah objek dari <class 'int'>\n",
      "Hello world! adalah objek dari <class 'str'>\n",
      "{'nama': 'Jeni', 'umur': 24} adalah objek dari <class 'dict'>\n"
     ]
    }
   ],
   "source": [
    "x = 28\n",
    "print('%d adalah objek dari %s' % (x, type(x)))\n",
    "\n",
    "x = 'Hello world!'\n",
    "print('%s adalah objek dari %s' % (x, type(x)))\n",
    "\n",
    "x = {'nama': 'Jeni', 'umur': 24}\n",
    "print('%s adalah objek dari %s' % (x, type(x)))"
   ]
  },
  {
   "cell_type": "markdown",
   "metadata": {},
   "source": [
    "Kita sudah tahu bahwa integer, string, dan dictionary \"berperilaku\" berbeda. Mereka memiliki sifat yang berbeda dan kemampuan yang berbeda. Dalam bahasa pemrograman, kita mengatakan mereka memiliki **attributes** dan **methods** yang berbeda.\n",
    "\n",
    "Atribut objek adalah variabel internal yang digunakan untuk menyimpan informasi tentang objek tersebut."
   ]
  },
  {
   "cell_type": "code",
   "execution_count": 2,
   "metadata": {},
   "outputs": [
    {
     "name": "stdout",
     "output_type": "stream",
     "text": [
      "9.0\n",
      "2.0\n"
     ]
    }
   ],
   "source": [
    "# bilangan kompleks memiliki bagian riil dan imajiner\n",
    "x = complex(9, 2)\n",
    "print(x.real)\n",
    "print(x.imag)"
   ]
  },
  {
   "cell_type": "markdown",
   "metadata": {},
   "source": [
    "Metode objek adalah fungsi internal yang mengimplementasikan kemampuan yang berbeda."
   ]
  },
  {
   "cell_type": "code",
   "execution_count": 3,
   "metadata": {},
   "outputs": [
    {
     "name": "stdout",
     "output_type": "stream",
     "text": [
      "latihan python\n",
      "LATIHAN PYTHON\n"
     ]
    }
   ],
   "source": [
    "x = 'Latihan Python'\n",
    "print(x.lower())\n",
    "print(x.upper())"
   ]
  },
  {
   "cell_type": "markdown",
   "metadata": {},
   "source": [
    "Kita akan lebih sering berinteraksi dengan metode suatu objek dibanding dengan atributnya. Atribut mewakili _state_ dari suatu objek. Kita biasanya lebih suka mengubah / melakukan _mutate_ terhadap state objek melalui metodenya, karena metode mewakili tindakan yang dapat dilakukan dengan aman tanpa merusak objek. Seringkali atribut suatu objek tidak akan berubah, atau bersifat _immutable_."
   ]
  },
  {
   "cell_type": "code",
   "execution_count": 4,
   "metadata": {},
   "outputs": [
    {
     "ename": "AttributeError",
     "evalue": "readonly attribute",
     "output_type": "error",
     "traceback": [
      "\u001b[1;31m---------------------------------------------------------------------------\u001b[0m",
      "\u001b[1;31mAttributeError\u001b[0m                            Traceback (most recent call last)",
      "\u001b[1;32m~\\AppData\\Local\\Temp/ipykernel_12444/2643447574.py\u001b[0m in \u001b[0;36m<module>\u001b[1;34m\u001b[0m\n\u001b[0;32m      1\u001b[0m \u001b[0mx\u001b[0m \u001b[1;33m=\u001b[0m \u001b[0mcomplex\u001b[0m\u001b[1;33m(\u001b[0m\u001b[1;36m7\u001b[0m\u001b[1;33m,\u001b[0m \u001b[1;36m5\u001b[0m\u001b[1;33m)\u001b[0m\u001b[1;33m\u001b[0m\u001b[1;33m\u001b[0m\u001b[0m\n\u001b[1;32m----> 2\u001b[1;33m \u001b[0mx\u001b[0m\u001b[1;33m.\u001b[0m\u001b[0mreal\u001b[0m \u001b[1;33m=\u001b[0m \u001b[1;36m6\u001b[0m\u001b[1;33m\u001b[0m\u001b[1;33m\u001b[0m\u001b[0m\n\u001b[0m",
      "\u001b[1;31mAttributeError\u001b[0m: readonly attribute"
     ]
    }
   ],
   "source": [
    "x = complex(7, 5)\n",
    "x.real = 6"
   ]
  },
  {
   "cell_type": "markdown",
   "metadata": {},
   "source": [
    "Contoh metode yang memutasi objek adalah metode `append` dari `list`."
   ]
  },
  {
   "cell_type": "code",
   "execution_count": 7,
   "metadata": {},
   "outputs": [
    {
     "name": "stdout",
     "output_type": "stream",
     "text": [
      "['contoh', 67, 1708.1, True]\n"
     ]
    }
   ],
   "source": [
    "x = ['contoh', 67, 1708.1]\n",
    "x.append(True)\n",
    "print(x)"
   ]
  },
  {
   "cell_type": "markdown",
   "metadata": {},
   "source": [
    "Bagaimana kita tahu apa atribut dan metode suatu objek? Kita dapat menggunakan fungsi `dir` Python. Kita bisa menggunakan `dir` pada objek atau kelas."
   ]
  },
  {
   "cell_type": "code",
   "execution_count": 6,
   "metadata": {},
   "outputs": [
    {
     "name": "stdout",
     "output_type": "stream",
     "text": [
      "['denominator', 'from_bytes', 'imag', 'numerator', 'real', 'to_bytes']\n",
      "['denominator', 'from_bytes', 'imag', 'numerator', 'real', 'to_bytes']\n"
     ]
    }
   ],
   "source": [
    "# dir pada objek\n",
    "x = 90\n",
    "print(dir(x)[-6:]) # truncate hasilnya agar lebih jelas\n",
    "\n",
    "# dir pada kelas\n",
    "print(dir(int)[-6:])"
   ]
  },
  {
   "cell_type": "markdown",
   "metadata": {},
   "source": [
    "Kita juga dapat mencari di dalam dokumentasi terkait class. Sebagai contoh, [dokumentasi resmi Python tentang jenis built-in Python berikut](https://docs.python.org/2/library/stdtypes.html). Kita akan menggunakan dokumentasi lebih sering dan lebih sering lagi saat kita menggabungkan library dan tool third-party ke dalam Python."
   ]
  },
  {
   "cell_type": "markdown",
   "metadata": {},
   "source": [
    "## Classes\n",
    "\n",
    "Metode dan atribut dari `dict` tidak memberi tahu kita apa pun tentang key-value pairs atau hashing. Kita dapat mendefinisikan class kita sendiri untuk membuat objek yang melakukan berbagai tugas terkait atau mewakili informasi dengan cukup mudah. Beberapa contoh yang akan kita bahas nanti adalah class untuk membuat plot dan grafik, class untuk membuat dan menganalisis tabel data, dan class untuk melakukan statistik dan regresi.\n",
    "\n",
    "Untuk saat ini, mari kita implementasikan class yang disebut `Rational` untuk bekerja dengan bilangan pecahan (misalnya 15/5). Hal pertama yang kita perlukan adalah untuk dapat membuat objek `Rational`. Kita mendefinisikan bagaimana class ini harus bekerja dengan metode khusus (tersembunyi) yang disebut `__init__`. Kita juga akan mendefinisikan metode khusus lain yang disebut `__repr__` yang memberi tahu Python cara mencetak objek."
   ]
  },
  {
   "cell_type": "code",
   "execution_count": 8,
   "metadata": {},
   "outputs": [],
   "source": [
    "class Rational(object):\n",
    "\n",
    "    def __init__(self, numerator, denominator):\n",
    "        self.numerator = numerator\n",
    "        self.denominator = denominator\n",
    "\n",
    "    def __repr__(self):\n",
    "        return '%d/%d' % (self.numerator, self.denominator)"
   ]
  },
  {
   "cell_type": "code",
   "execution_count": 9,
   "metadata": {},
   "outputs": [
    {
     "name": "stdout",
     "output_type": "stream",
     "text": [
      "7/3\n"
     ]
    }
   ],
   "source": [
    "fraction = Rational(7, 3)\n",
    "print(fraction)"
   ]
  },
  {
   "cell_type": "code",
   "execution_count": 10,
   "metadata": {},
   "outputs": [
    {
     "name": "stdout",
     "output_type": "stream",
     "text": [
      "9/4\n"
     ]
    }
   ],
   "source": [
    "fraction = Rational(9, 4)\n",
    "print(fraction)"
   ]
  },
  {
   "cell_type": "markdown",
   "metadata": {},
   "source": [
    "Anda mungkin telah memperhatikan bahwa kedua metode mengambil argumen pertama dengan kata kunci `self`. Argumen pertama untuk metode apa pun di suatu class adalah turunan/instance dari class di mana metode dipanggil. Pikirkan class seperti cetak biru dari (mungkin banyak) objek dibangun. Argumen `self` adalah mekanisme yang digunakan Python sehingga metode dapat mengetahui instance kelas mana yang dipanggil. Ketika metode benar-benar dipanggil, kita dapat memanggilnya dengan dua cara. Katakanlah kita membuat kelas `MyClass` dengan metode `.do_it(self)`, jika kita membuat instance objek dari kelas ini, kita dapat memanggil metode dengan dua cara:"
   ]
  },
  {
   "cell_type": "code",
   "execution_count": 12,
   "metadata": {},
   "outputs": [
    {
     "name": "stdout",
     "output_type": "stream",
     "text": [
      "3\n",
      "3\n"
     ]
    }
   ],
   "source": [
    "class MyClass(object):\n",
    "    def __init__(self, num):\n",
    "        self.num = num\n",
    "        \n",
    "    def do_it(self):\n",
    "        print(self.num)\n",
    "        \n",
    "myclass = MyClass(2)\n",
    "myclass.do_it()\n",
    "MyClass.do_it(myclass)"
   ]
  },
  {
   "cell_type": "raw",
   "metadata": {},
   "source": [
    "# Dengan menggunakan cara pertama `myclass.do_it()`, argumen `self` dipahami karena `myclass` adalah turunan dari `MyClass`. Ini adalah cara yang hampir universal untuk memanggil metode. Kemungkinan lainnya adalah `MyClass.do_it(myclass)` di mana kita melewatkan objek `myclass` sebagai argumen `self`, sintaks ini jauh lebih jarang digunakan.\n",
    "\n",
    "Seperti semua argumen Python, `self` tidak perlu diberi nama `self`, kita juga bisa menyebutnya `this` atau `apple` atau `wizard`. Namun, penggunaan `self` adalah konvensi Python yang sangat kuat yang jarang dilanggar. Anda harus menggunakan konvensi ini agar kode Anda dipahami oleh orang lain.\n",
    "\n",
    "Mari kembali ke class `Rational` kita. Sejauh ini, kita dapat membuat objek `Rational` dan melakukan `print`, tetapi tidak dapat melakukan banyak hal lainnya. Kita mungkin juga menginginkan metode `reduce` yang akan membagi pembilang dan penyebut dengan pembagi persekutuan terbesarnya. Oleh karena itu, kita perlu menulis fungsi yang menghitung pembagi persekutuan terbesar. Kita akan menambahkan ini ke definisi kelas kita."
   ]
  },
  {
   "cell_type": "code",
   "execution_count": 13,
   "metadata": {},
   "outputs": [],
   "source": [
    "class Rational(object):\n",
    "\n",
    "    def __init__(self, numerator, denominator):\n",
    "        self.numerator = numerator\n",
    "        self.denominator = denominator\n",
    "\n",
    "    def __repr__(self):\n",
    "        return '%d/%d' % (self.numerator, self.denominator)\n",
    "\n",
    "    def _gcd(self):\n",
    "        smaller = min(self.numerator, self.denominator)\n",
    "        small_divisors = {i for i in range(1, smaller + 1) if smaller % i == 0}\n",
    "        larger = max(self.numerator, self.denominator)\n",
    "        common_divisors = {i for i in small_divisors if larger % i == 0}\n",
    "        return max(common_divisors)\n",
    "\n",
    "    def reduce(self):\n",
    "        gcd = self._gcd()\n",
    "        self.numerator = self.numerator / gcd\n",
    "        self.denominator = self.denominator / gcd\n",
    "        return self"
   ]
  },
  {
   "cell_type": "code",
   "execution_count": 14,
   "metadata": {},
   "outputs": [
    {
     "name": "stdout",
     "output_type": "stream",
     "text": [
      "1/2\n"
     ]
    }
   ],
   "source": [
    "fraction = Rational(16, 32)\n",
    "fraction.reduce()\n",
    "print(fraction)"
   ]
  },
  {
   "cell_type": "markdown",
   "metadata": {},
   "source": [
    "Kita secara bertahap membangun fungsionalitas kelas `Rational` kita, tetapi memiliki masalah besar: kita tidak dapat mengerjakan operasi matematika terhadapnya!"
   ]
  },
  {
   "cell_type": "code",
   "execution_count": 16,
   "metadata": {},
   "outputs": [
    {
     "ename": "TypeError",
     "evalue": "unsupported operand type(s) for *: 'int' and 'Rational'",
     "output_type": "error",
     "traceback": [
      "\u001b[1;31m---------------------------------------------------------------------------\u001b[0m",
      "\u001b[1;31mTypeError\u001b[0m                                 Traceback (most recent call last)",
      "\u001b[1;32m~\\AppData\\Local\\Temp/ipykernel_12444/237400305.py\u001b[0m in \u001b[0;36m<module>\u001b[1;34m\u001b[0m\n\u001b[1;32m----> 1\u001b[1;33m \u001b[0mprint\u001b[0m\u001b[1;33m(\u001b[0m\u001b[1;36m10\u001b[0m \u001b[1;33m*\u001b[0m \u001b[0mfraction\u001b[0m\u001b[1;33m)\u001b[0m\u001b[1;33m\u001b[0m\u001b[1;33m\u001b[0m\u001b[0m\n\u001b[0m",
      "\u001b[1;31mTypeError\u001b[0m: unsupported operand type(s) for *: 'int' and 'Rational'"
     ]
    }
   ],
   "source": [
    "print(10 * fraction)"
   ]
  },
  {
   "cell_type": "markdown",
   "metadata": {},
   "source": [
    "Kita harus memberi tahu Python cara mengimplementasikan operator matematika (`+`, `-`, `*`, `/`) untuk kelas kita."
   ]
  },
  {
   "cell_type": "code",
   "execution_count": 15,
   "metadata": {},
   "outputs": [
    {
     "name": "stdout",
     "output_type": "stream",
     "text": [
      "['__abs__', '__add__', '__and__', '__bool__', '__ceil__', '__class__', '__delattr__', '__dir__', '__divmod__', '__doc__', '__eq__', '__float__', '__floor__', '__floordiv__', '__format__', '__ge__', '__getattribute__', '__getnewargs__', '__gt__', '__hash__', '__index__', '__init__', '__init_subclass__', '__int__', '__invert__', '__le__', '__lshift__', '__lt__', '__mod__', '__mul__', '__ne__', '__neg__', '__new__', '__or__', '__pos__', '__pow__', '__radd__', '__rand__', '__rdivmod__', '__reduce__', '__reduce_ex__', '__repr__', '__rfloordiv__', '__rlshift__', '__rmod__', '__rmul__', '__ror__', '__round__', '__rpow__', '__rrshift__', '__rshift__', '__rsub__', '__rtruediv__', '__rxor__', '__setattr__', '__sizeof__', '__str__', '__sub__', '__subclasshook__', '__truediv__', '__trunc__', '__xor__', 'as_integer_ratio', 'bit_length', 'conjugate', 'denominator', 'from_bytes', 'imag', 'numerator', 'real', 'to_bytes']\n"
     ]
    }
   ],
   "source": [
    "print(dir(int))"
   ]
  },
  {
   "cell_type": "markdown",
   "metadata": {},
   "source": [
    "Jika kita memperhatikan hasil print `dir(int)` kita melihatnya memiliki metode tersembunyi seperti `__add__`, `__div__`, `__mul__`, `__sub__`, dll. Sama seperti `__repr__` kita memberi tahu Python cara `print` objek kita, metode-metode tersembunyi ini memberi tahu Python cara menangani operator matematika.\n",
    "\n",
    "Mari tambahkan metode yang mengimplementasikan operasi matematika ke definisi kelas kita. Untuk melakukan penjumlahan atau pengurangan, kita harus menemukan penyebut yang sama dengan bilangan yang kita tambahkan. Untuk mempermudah, kita hanya akan mengimplementasikan perkalian. Kita tidak akan dapat menambah, mengurangi, atau membagi."
   ]
  },
  {
   "cell_type": "code",
   "execution_count": 18,
   "metadata": {},
   "outputs": [],
   "source": [
    "class Rational(object):\n",
    "\n",
    "    def __init__(self, numerator, denominator):\n",
    "        self.numerator = numerator\n",
    "        self.denominator = denominator\n",
    "\n",
    "    def __repr__(self):\n",
    "        return '%d/%d' % (self.numerator, self.denominator)\n",
    "\n",
    "    def __mul__(self, number):\n",
    "        if isinstance(number, int):\n",
    "            return Rational(self.numerator * number, self.denominator)\n",
    "        elif isinstance(number, Rational):\n",
    "            return Rational(self.numerator * number.numerator, self.denominator * number.denominator)\n",
    "        else:\n",
    "            raise TypeError('Angka yang diharapkan adalah int atau Rational. Didapatkan %s' % type(number))\n",
    "        \n",
    "    def _gcd(self):\n",
    "        smaller = min(self.numerator, self.denominator)\n",
    "        small_divisors = {i for i in range(1, smaller + 1) if smaller % i == 0}\n",
    "        larger = max(self.numerator, self.denominator)\n",
    "        common_divisors = {i for i in small_divisors if larger % i == 0}\n",
    "        return max(common_divisors)\n",
    "\n",
    "    def reduce(self):\n",
    "        gcd = self._gcd()\n",
    "        self.numerator = self.numerator / gcd\n",
    "        self.denominator = self.denominator / gcd\n",
    "        return self"
   ]
  },
  {
   "cell_type": "code",
   "execution_count": 19,
   "metadata": {},
   "outputs": [
    {
     "name": "stdout",
     "output_type": "stream",
     "text": [
      "12/6\n",
      "10/27\n"
     ]
    }
   ],
   "source": [
    "print(Rational(4, 6) * 3)\n",
    "print(Rational(5, 9) * Rational(2, 3))"
   ]
  },
  {
   "cell_type": "code",
   "execution_count": 20,
   "metadata": {},
   "outputs": [
    {
     "ename": "TypeError",
     "evalue": "Angka yang diharapkan adalah int atau Rational. Didapatkan <class 'float'>",
     "output_type": "error",
     "traceback": [
      "\u001b[1;31m---------------------------------------------------------------------------\u001b[0m",
      "\u001b[1;31mTypeError\u001b[0m                                 Traceback (most recent call last)",
      "\u001b[1;32m~\\AppData\\Local\\Temp/ipykernel_12444/1130370758.py\u001b[0m in \u001b[0;36m<module>\u001b[1;34m\u001b[0m\n\u001b[0;32m      1\u001b[0m \u001b[1;31m# ingat, tidak ada dukungan untuk float\u001b[0m\u001b[1;33m\u001b[0m\u001b[1;33m\u001b[0m\u001b[0m\n\u001b[1;32m----> 2\u001b[1;33m \u001b[0mprint\u001b[0m\u001b[1;33m(\u001b[0m\u001b[0mRational\u001b[0m\u001b[1;33m(\u001b[0m\u001b[1;36m4\u001b[0m\u001b[1;33m,\u001b[0m \u001b[1;36m6\u001b[0m\u001b[1;33m)\u001b[0m \u001b[1;33m*\u001b[0m \u001b[1;36m2.3\u001b[0m\u001b[1;33m)\u001b[0m\u001b[1;33m\u001b[0m\u001b[1;33m\u001b[0m\u001b[0m\n\u001b[0m",
      "\u001b[1;32m~\\AppData\\Local\\Temp/ipykernel_12444/2429356507.py\u001b[0m in \u001b[0;36m__mul__\u001b[1;34m(self, number)\u001b[0m\n\u001b[0;32m     14\u001b[0m             \u001b[1;32mreturn\u001b[0m \u001b[0mRational\u001b[0m\u001b[1;33m(\u001b[0m\u001b[0mself\u001b[0m\u001b[1;33m.\u001b[0m\u001b[0mnumerator\u001b[0m \u001b[1;33m*\u001b[0m \u001b[0mnumber\u001b[0m\u001b[1;33m.\u001b[0m\u001b[0mnumerator\u001b[0m\u001b[1;33m,\u001b[0m \u001b[0mself\u001b[0m\u001b[1;33m.\u001b[0m\u001b[0mdenominator\u001b[0m \u001b[1;33m*\u001b[0m \u001b[0mnumber\u001b[0m\u001b[1;33m.\u001b[0m\u001b[0mdenominator\u001b[0m\u001b[1;33m)\u001b[0m\u001b[1;33m\u001b[0m\u001b[1;33m\u001b[0m\u001b[0m\n\u001b[0;32m     15\u001b[0m         \u001b[1;32melse\u001b[0m\u001b[1;33m:\u001b[0m\u001b[1;33m\u001b[0m\u001b[1;33m\u001b[0m\u001b[0m\n\u001b[1;32m---> 16\u001b[1;33m             \u001b[1;32mraise\u001b[0m \u001b[0mTypeError\u001b[0m\u001b[1;33m(\u001b[0m\u001b[1;34m'Angka yang diharapkan adalah int atau Rational. Didapatkan %s'\u001b[0m \u001b[1;33m%\u001b[0m \u001b[0mtype\u001b[0m\u001b[1;33m(\u001b[0m\u001b[0mnumber\u001b[0m\u001b[1;33m)\u001b[0m\u001b[1;33m)\u001b[0m\u001b[1;33m\u001b[0m\u001b[1;33m\u001b[0m\u001b[0m\n\u001b[0m\u001b[0;32m     17\u001b[0m \u001b[1;33m\u001b[0m\u001b[0m\n\u001b[0;32m     18\u001b[0m     \u001b[1;32mdef\u001b[0m \u001b[0m_gcd\u001b[0m\u001b[1;33m(\u001b[0m\u001b[0mself\u001b[0m\u001b[1;33m)\u001b[0m\u001b[1;33m:\u001b[0m\u001b[1;33m\u001b[0m\u001b[1;33m\u001b[0m\u001b[0m\n",
      "\u001b[1;31mTypeError\u001b[0m: Angka yang diharapkan adalah int atau Rational. Didapatkan <class 'float'>"
     ]
    }
   ],
   "source": [
    "# ingat, tidak ada dukungan untuk float\n",
    "print(Rational(4, 6) * 2.3)"
   ]
  },
  {
   "cell_type": "code",
   "execution_count": 17,
   "metadata": {},
   "outputs": [
    {
     "ename": "TypeError",
     "evalue": "unsupported operand type(s) for +: 'Rational' and 'Rational'",
     "output_type": "error",
     "traceback": [
      "\u001b[1;31m---------------------------------------------------------------------------\u001b[0m",
      "\u001b[1;31mTypeError\u001b[0m                                 Traceback (most recent call last)",
      "\u001b[1;32m~\\AppData\\Local\\Temp/ipykernel_20584/1539106113.py\u001b[0m in \u001b[0;36m<module>\u001b[1;34m\u001b[0m\n\u001b[0;32m      1\u001b[0m \u001b[1;31m# juga, tidak ada penambahan, pengurangan, dll.\u001b[0m\u001b[1;33m\u001b[0m\u001b[1;33m\u001b[0m\u001b[0m\n\u001b[1;32m----> 2\u001b[1;33m \u001b[0mprint\u001b[0m\u001b[1;33m(\u001b[0m\u001b[0mRational\u001b[0m\u001b[1;33m(\u001b[0m\u001b[1;36m4\u001b[0m\u001b[1;33m,\u001b[0m \u001b[1;36m6\u001b[0m\u001b[1;33m)\u001b[0m \u001b[1;33m+\u001b[0m \u001b[0mRational\u001b[0m\u001b[1;33m(\u001b[0m\u001b[1;36m2\u001b[0m\u001b[1;33m,\u001b[0m \u001b[1;36m3\u001b[0m\u001b[1;33m)\u001b[0m\u001b[1;33m)\u001b[0m\u001b[1;33m\u001b[0m\u001b[1;33m\u001b[0m\u001b[0m\n\u001b[0m",
      "\u001b[1;31mTypeError\u001b[0m: unsupported operand type(s) for +: 'Rational' and 'Rational'"
     ]
    }
   ],
   "source": [
    "# juga, tidak ada penambahan, pengurangan, dll.\n",
    "print(Rational(4, 6) + Rational(2, 3))"
   ]
  },
  {
   "cell_type": "markdown",
   "metadata": {},
   "source": [
    "Mendefinisikan kelas bisa menjadi pekerjaan yang rumit. Kita harus membayangkan semua cara menggunakan suatu objek yang kita inginkan, dan yang mana kita mungkin mengalami masalah. Ini juga berlaku untuk mendefinisikan fungsi, tetapi kelas biasanya akan menangani banyak tugas sementara fungsi mungkin hanya melakukan satu."
   ]
  },
  {
   "cell_type": "markdown",
   "metadata": {},
   "source": [
    "## Private Methods di Python\n",
    "\n",
    "Anda mungkin sudah memperhatikan bahwa kita telah menggunakan beberapa metode yang dimulai dengan `_` seperti `_gcd`. Hal ini memiliki arti konvensional dalam Python yang secara formal diimplementasikan dalam bahasa lain, gagasan tentang private function. Kelas digunakan untuk merangkum fungsionalitas dan data dan juga menyediakan antarmuka. Pikirkan sebuah program sebagai sebuah perusahaan, setiap pekerja memiliki tanggung jawab mereka sendiri dan mereka tahu bahwa orang lain di perusahaan melakukan tugas-tugas tertentu, tetapi mereka tidak perlu tahu bagaimana orang-orang itu melakukan tugas-tugas itu.\n",
    "\n",
    "Untuk memungkinkan ini, class memiliki metode publik/public dan pribadi/private. Metode publik adalah metode yang \"exposed\" terhadap objek lain atau interaksi pengguna. Metode private digunakan secara internal ke objek, seringkali dalam arti \"helper\". Dalam beberapa bahasa, gagasan tentang metode publik dan privat ini diberlakukan dan pemrogram harus menentukan setiap metode sebagai publik atau privat. Dalam Python setiap metode bersifat publik, tetapi untuk membedakan metode mana yang kami maksudkan sebagai private, kami menambahkan garis bawah di depan metode, oleh karena itu menjadi `_gcd`. Ini adalah catatan untuk seseorang yang menggunakan kelas bahwa metode ini hanya boleh dipanggil di dalam objek, sedangkan metode publik diharapkan tidak akan mengubah antarmuka mereka.\n",
    "\n",
    "Konvensi Python lain yang berhubungan dengan garis bawah adalah apa yang disebut metode `dunder` yang memiliki garis bawah ganda sebelum dan sesudah nama metode. Ada banyak contoh dari metode ini di Python seperti `__init__, __name__, __add__`, dll dan mereka memiliki arti khusus. Perhatikan bahwa mereka umumnya dianggap metode private juga kecuali dalam keadaan khusus. Dalam kasus metode seperti `__add__`, metode inilah yang memungkinkan pemrogram untuk menentukan operasi `+`. Karena metode ini memiliki arti khusus untuk Python, mereka hanya boleh digunakan dengan hati-hati. \n",
    "\n",
    "## Kapan kita menginginkan Class?\n",
    "\n",
    "Ketika kita ingin melakukan serangkaian tugas yang saling terkait, terutama dalam pengulangan, kita biasanya ingin mendefinisikan kelas baru. Kita akan melihat bahwa di sebagian besar third-party library yang akan kita gunakan, alat utama yang mereka perkenalkan ke Python adalah kelas baru. Misalnya, library Pandas, yang fitur utamanya adalah kelas `DataFrame`."
   ]
  },
  {
   "cell_type": "code",
   "execution_count": 23,
   "metadata": {},
   "outputs": [
    {
     "name": "stdout",
     "output_type": "stream",
     "text": [
      "<class 'pandas.core.frame.DataFrame'>\n"
     ]
    },
    {
     "data": {
      "text/html": [
       "<div>\n",
       "<style scoped>\n",
       "    .dataframe tbody tr th:only-of-type {\n",
       "        vertical-align: middle;\n",
       "    }\n",
       "\n",
       "    .dataframe tbody tr th {\n",
       "        vertical-align: top;\n",
       "    }\n",
       "\n",
       "    .dataframe thead th {\n",
       "        text-align: right;\n",
       "    }\n",
       "</style>\n",
       "<table border=\"1\" class=\"dataframe\">\n",
       "  <thead>\n",
       "    <tr style=\"text-align: right;\">\n",
       "      <th></th>\n",
       "      <th>a</th>\n",
       "      <th>b</th>\n",
       "    </tr>\n",
       "  </thead>\n",
       "  <tbody>\n",
       "    <tr>\n",
       "      <th>0</th>\n",
       "      <td>1</td>\n",
       "      <td>True</td>\n",
       "    </tr>\n",
       "    <tr>\n",
       "      <th>1</th>\n",
       "      <td>2</td>\n",
       "      <td>False</td>\n",
       "    </tr>\n",
       "    <tr>\n",
       "      <th>2</th>\n",
       "      <td>5</td>\n",
       "      <td>True</td>\n",
       "    </tr>\n",
       "  </tbody>\n",
       "</table>\n",
       "</div>"
      ],
      "text/plain": [
       "   a      b\n",
       "0  1   True\n",
       "1  2  False\n",
       "2  5   True"
      ]
     },
     "execution_count": 23,
     "metadata": {},
     "output_type": "execute_result"
    }
   ],
   "source": [
    "import pandas as pd\n",
    "\n",
    "df = pd.DataFrame({'a': [1, 2, 5], 'b': [True, False, True]})\n",
    "\n",
    "print(type(df))\n",
    "df.head()"
   ]
  },
  {
   "cell_type": "markdown",
   "metadata": {},
   "source": [
    "Inilah awal (ringkas) dari definisi kelas DataFrame:\n",
    "\n",
    "```python\n",
    "class DataFrame(NDFrame):\n",
    "\n",
    "    def __init__(self, data=None, index=None, columns=None, dtype=None,\n",
    "                 copy=False):\n",
    "        if data is None:\n",
    "            data = {}\n",
    "        if dtype is not None:\n",
    "            dtype = self._validate_dtype(dtype)\n",
    "\n",
    "        if isinstance(data, DataFrame):\n",
    "            data = data._data\n",
    "\n",
    "        if isinstance(data, BlockManager):\n",
    "            mgr = self._init_mgr(data, axes=dict(index=index, columns=columns),\n",
    "                                 dtype=dtype, copy=copy)\n",
    "        elif isinstance(data, dict):\n",
    "            mgr = self._init_dict(data, index, columns, dtype=dtype)\n",
    "        elif isinstance(data, ma.MaskedArray):\n",
    "            import numpy.ma.mrecords as mrecords\n",
    "            # masked recarray\n",
    "            if isinstance(data, mrecords.MaskedRecords):\n",
    "                mgr = _masked_rec_array_to_mgr(data, index, columns, dtype,\n",
    "                                               copy)\n",
    "\n",
    "            # a masked array\n",
    "            else:\n",
    "                mask = ma.getmaskarray(data)\n",
    "                if mask.any():\n",
    "                    data, fill_value = maybe_upcast(data, copy=True)\n",
    "                    data[mask] = fill_value\n",
    "                else:\n",
    "                    data = data.copy()\n",
    "                mgr = self._init_ndarray(data, index, columns, dtype=dtype,\n",
    "                                         copy=copy)\n",
    "\n",
    "        elif isinstance(data, (np.ndarray, Series, Index)):\n",
    "            if data.dtype.names:\n",
    "                data_columns = list(data.dtype.names)\n",
    "                data = dict((k, data[k]) for k in data_columns)\n",
    "                if columns is None:\n",
    "                    columns = data_columns\n",
    "                mgr = self._init_dict(data, index, columns, dtype=dtype)\n",
    "            elif getattr(data, 'name', None) is not None:\n",
    "                mgr = self._init_dict({data.name: data}, index, columns,\n",
    "                                      dtype=dtype)\n",
    "            else:\n",
    "                mgr = self._init_ndarray(data, index, columns, dtype=dtype,\n",
    "                                         copy=copy)\n",
    "        elif isinstance(data, (list, types.GeneratorType)):\n",
    "            if isinstance(data, types.GeneratorType):\n",
    "                data = list(data)\n",
    "            if len(data) > 0:\n",
    "                if is_list_like(data[0]) and getattr(data[0], 'ndim', 1) == 1:\n",
    "                    if is_named_tuple(data[0]) and columns is None:\n",
    "                        columns = data[0]._fields\n",
    "                    arrays, columns = _to_arrays(data, columns, dtype=dtype)\n",
    "                    columns = _ensure_index(columns)\n",
    "\n",
    "                    # set the index\n",
    "                    if index is None:\n",
    "                        if isinstance(data[0], Series):\n",
    "                            index = _get_names_from_index(data)\n",
    "                        elif isinstance(data[0], Categorical):\n",
    "                            index = _default_index(len(data[0]))\n",
    "                        else:\n",
    "                            index = _default_index(len(data))\n",
    "\n",
    "                    mgr = _arrays_to_mgr(arrays, columns, index, columns,\n",
    "                                         dtype=dtype)\n",
    "                else:\n",
    "                    mgr = self._init_ndarray(data, index, columns, dtype=dtype,\n",
    "                                             copy=copy)\n",
    "            else:\n",
    "                mgr = self._init_dict({}, index, columns, dtype=dtype)\n",
    "        elif isinstance(data, collections.Iterator):\n",
    "            raise TypeError(\"data argument can't be an iterator\")\n",
    "        else:\n",
    "            try:\n",
    "                arr = np.array(data, dtype=dtype, copy=copy)\n",
    "            except (ValueError, TypeError) as e:\n",
    "                exc = TypeError('DataFrame constructor called with '\n",
    "                                'incompatible data and dtype: %s' % e)\n",
    "                raise_with_traceback(exc)\n",
    "\n",
    "            if arr.ndim == 0 and index is not None and columns is not None:\n",
    "                values = cast_scalar_to_array((len(index), len(columns)),\n",
    "                                              data, dtype=dtype)\n",
    "                mgr = self._init_ndarray(values, index, columns,\n",
    "                                         dtype=values.dtype, copy=False)\n",
    "            else:\n",
    "                raise ValueError('DataFrame constructor not properly called!')\n",
    "\n",
    "        NDFrame.__init__(self, mgr, fastpath=True)\n",
    "```"
   ]
  },
  {
   "cell_type": "markdown",
   "metadata": {},
   "source": [
    "Banyak kode yang dituliskan hanya untuk `__init__`!\n",
    "\n",
    "Seringkali kita akan menggunakan hubungan antara kelas baru dan kelas yang ada untuk _inherit_ fungsionalitas, menyelamatkan kita dari keharusan menulis beberapa kode.\n",
    "\n",
    "## Inheritance\n",
    "\n",
    "Seringkali kelas yang kita definisikan dengan Python akan dibangun dari ideas yang ada di kelas lain. Sebagai contoh, kelas `Rational` kita adalah sebuah bilangan, sehingga harus berperilaku seperti bilangan lainnya. Kita bisa menulis implementasi `Rational` yang menggunakan aritmatika `float` dan hanya mengubah/convert antara floating point dan representasi rasional selama input dan output. Ini akan menyelamatkan kita dari kerumitan dalam mengimplementasikan aritmatika, tetapi mungkin memperumit pembuatan dan representasi objek. Bahkan jika Anda tidak pernah menulis sebuah kelas, akan berguna untuk memahami ide inheritance/pewarisan dan hubungan antar kelas.\n",
    "\n",
    "Mari kita menulis kelas umum yang disebut `Rectangle`, yang akan memiliki dua atribut, panjang dan lebar, serta beberapa metode."
   ]
  },
  {
   "cell_type": "code",
   "execution_count": 25,
   "metadata": {},
   "outputs": [],
   "source": [
    "class Rectangle(object):\n",
    "    def __init__(self, height, length):\n",
    "        self.height = height\n",
    "        self.length = length\n",
    "    \n",
    "    def area(self):\n",
    "        return self.height * self.length\n",
    "    \n",
    "    def perimeter(self):\n",
    "        return 2 * (self.height + self.length)"
   ]
  },
  {
   "cell_type": "markdown",
   "metadata": {},
   "source": [
    "Sekarang, definisikan persegi yang mana juga merupakan persegi panjang, tetapi agak lebih terbatas karena memiliki tinggi yang sama dengan panjangnya, jadi kita dapat melakukan subclass `Rectangle` dan menerapkannya dalam kode."
   ]
  },
  {
   "cell_type": "code",
   "execution_count": 26,
   "metadata": {},
   "outputs": [],
   "source": [
    "class Square(Rectangle):\n",
    "    def __init__(self, length):\n",
    "        super(Square, self).__init__(length, length)"
   ]
  },
  {
   "cell_type": "code",
   "execution_count": 27,
   "metadata": {},
   "outputs": [
    {
     "data": {
      "text/plain": [
       "(25, 20)"
      ]
     },
     "execution_count": 27,
     "metadata": {},
     "output_type": "execute_result"
    }
   ],
   "source": [
    "s = Square(5)\n",
    "s.area(), s.perimeter()"
   ]
  },
  {
   "cell_type": "markdown",
   "metadata": {},
   "source": [
    "Terkadang (walaupun tidak sering) kita ingin benar-benar memeriksa jenis objek python (dari kelas mana). Ada dua cara untuk melakukan ini, pertama-tama mari kita lihat beberapa contoh untuk mengetahui perbedaannya."
   ]
  },
  {
   "cell_type": "code",
   "execution_count": 28,
   "metadata": {},
   "outputs": [
    {
     "data": {
      "text/plain": [
       "True"
      ]
     },
     "execution_count": 28,
     "metadata": {},
     "output_type": "execute_result"
    }
   ],
   "source": [
    "type(s) == Square"
   ]
  },
  {
   "cell_type": "code",
   "execution_count": 23,
   "metadata": {},
   "outputs": [
    {
     "data": {
      "text/plain": [
       "False"
      ]
     },
     "execution_count": 23,
     "metadata": {},
     "output_type": "execute_result"
    }
   ],
   "source": [
    "type(s) == Rectangle"
   ]
  },
  {
   "cell_type": "code",
   "execution_count": 24,
   "metadata": {},
   "outputs": [
    {
     "data": {
      "text/plain": [
       "True"
      ]
     },
     "execution_count": 24,
     "metadata": {},
     "output_type": "execute_result"
    }
   ],
   "source": [
    "isinstance(s, Rectangle)"
   ]
  },
  {
   "cell_type": "markdown",
   "metadata": {},
   "source": [
    "Seperti yang mungkin Anda perhatikan, memeriksa kualitas tipe hanya memeriksa kelas yang tepat di mana suatu objek berada, sedangkan `isinstance(c, Class)` memeriksa apakah `c` adalah anggota kelas `Class` atau anggota subkelas dari ` Class`. Hampir selalu `isinstance` adalah cara yang tepat untuk memeriksa ini, karena jika suatu kelas mengimplementasikan beberapa jenis fungsionalitas, subkelasnya biasanya mengimplementasikan fungsionalitas yang sama (mereka mungkin hanya memiliki beberapa fungsionalitas bonus tambahan!)."
   ]
  },
  {
   "cell_type": "markdown",
   "metadata": {},
   "source": [
    "## Object Oriented Programming\n",
    "\n",
    "Sekarang setelah kita memahami objek dan kelas, mari kembali ke gagasan _Object Oriented Programming_. Object Oriented Programming (`OOP`) adalah perspektif bahwa program pada dasarnya tentang penciptaan objek dan interaksi di antara mereka. Dalam `OOP`, hampir setiap bagian kode mendeskripsikan objek, atribut objek, atau metode objek. Menjaga perspektif ini dalam pikiran dapat membantu kita memahami apa yang terjadi dalam sebuah program."
   ]
  },
  {
   "cell_type": "code",
   "execution_count": null,
   "metadata": {},
   "outputs": [],
   "source": []
  }
 ],
 "metadata": {
  "kernelspec": {
   "display_name": "Python 3 (ipykernel)",
   "language": "python",
   "name": "python3"
  },
  "language_info": {
   "codemirror_mode": {
    "name": "ipython",
    "version": 3
   },
   "file_extension": ".py",
   "mimetype": "text/x-python",
   "name": "python",
   "nbconvert_exporter": "python",
   "pygments_lexer": "ipython3",
   "version": "3.9.7"
  },
  "nbclean": true
 },
 "nbformat": 4,
 "nbformat_minor": 1
}
